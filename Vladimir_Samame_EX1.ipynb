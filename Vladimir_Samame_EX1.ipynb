{
  "nbformat": 4,
  "nbformat_minor": 0,
  "metadata": {
    "colab": {
      "provenance": [],
      "authorship_tag": "ABX9TyNiNg6tRJ5ZestTMBeoKP4e",
      "include_colab_link": true
    },
    "kernelspec": {
      "name": "python3",
      "display_name": "Python 3"
    },
    "language_info": {
      "name": "python"
    }
  },
  "cells": [
    {
      "cell_type": "markdown",
      "metadata": {
        "id": "view-in-github",
        "colab_type": "text"
      },
      "source": [
        "<a href=\"https://colab.research.google.com/github/AndersonSamame/Clase-N-1-Pyhton/blob/main/Vladimir_Samame_EX1.ipynb\" target=\"_parent\"><img src=\"https://colab.research.google.com/assets/colab-badge.svg\" alt=\"Open In Colab\"/></a>"
      ]
    },
    {
      "cell_type": "markdown",
      "source": [
        "***UTEC* – Módulo 2 – Introducción a Listas, Tuplas y Diccionario***\n",
        "\n",
        "***TAREA***\n",
        "***Nombe: Vladimir Anderson Samame Romero***\n",
        "# EJERCICIO\n",
        "1. A continuación tienes un objeto que registra las ventas semanales de una tienda de\n",
        "electrodomésticos, se registra en el siguiente orden, desde la primera semana a la\n",
        "doceava semana. (5 puntos)\n",
        "Ventas_semanales = [25000, 28000, 31000, 27500, 33000, 29000,\n",
        "35000, 32000, 30000, 28500, 26000, 33500]\n",
        "\n",
        " 1.1. Identifica la semana con el mejor resultado de venta.\n",
        "\n",
        " 1.2. Identifica la semana con el peor resultado de venta.\n",
        "\n",
        " 1.3. Calcula la venta promedio de la tienda.\n",
        "\n",
        " 1.4. Calcula alguna medida de dispersión de las ventas.\n",
        "\n",
        " 1.5. Crea un diccionario con la información registrada en los puntos anteriores y nómbralo como info_ventas.\n",
        "\n",
        "2. Usted va simular el lanzamiento de dos a la vez, para ello es necesario que siga las\n",
        "siguientes instrucciones. (12 puntos)\n",
        "\n",
        "2.1. Almacenar los resultados de lanzar un dado en una tupla de la siguiente manera tupla_dados = (1, 2, 3, 4, 5, 6).\n",
        "\n",
        "2.2. Use la función random.choice(tupla_dados) para recrear la selección aleatoria al lanzar un dado. Importe la librería random (import random).\n",
        "\n",
        "2.3. Simule el lanzamiento de dos a la vez, registre el valor obtenido por cada lanzamiento de cada dado.\n",
        "\n",
        "2.4. Ingrese por teclado el número de lanzamientos de ambos dados a la vez.\n",
        "\n",
        "2.5. Muestre los lanzamientos resultantes.\n",
        "\n",
        "2.6. Muestre la sumatoria de los dos valores resultantes al lanzar dos dados a la vez.\n",
        "\n",
        "3. Ingrese texto por teclado y crea un diccionario que almacene la cantidad de veces que aparece cada una de las letras o caracteres. (3 puntos)"
      ],
      "metadata": {
        "id": "chGxkaBs04vy"
      }
    },
    {
      "cell_type": "code",
      "execution_count": 10,
      "metadata": {
        "colab": {
          "base_uri": "https://localhost:8080/"
        },
        "id": "eRcnPpoO0Id1",
        "outputId": "9aff8da5-9480-4e50-adec-d869ec1d6dfa"
      },
      "outputs": [
        {
          "output_type": "stream",
          "name": "stdout",
          "text": [
            "(1.1)El mejor resultado de venta fue en la semana 7,y el total de ventas de esa semana fue de 35000 nuevos soles\n",
            "(1.2)El peor resultado de venta fue en la semana 1,y el total de ventas de esa semana fue de 25000 nuevos soles\n",
            "(1.3)La venta promedio de las doce semanas son de 29875.0 nuevos soles\n",
            "(1.4)La desviación estándar de las ventas semanales es de 3097.836488436875 nuevos soles\n"
          ]
        },
        {
          "output_type": "execute_result",
          "data": {
            "text/plain": [
              "{'week_best_sale': 7,\n",
              " 'best_sale': 35000,\n",
              " 'week_worst_sale': 1,\n",
              " 'worst_sale': 25000,\n",
              " 'average_sale': 29875,\n",
              " 'desviacion_estandar': 3097}"
            ]
          },
          "metadata": {},
          "execution_count": 10
        }
      ],
      "source": [
        "#PREGUNTA 1\n",
        "#(1)Se crea la lista\n",
        "ventas_semanales = [25000, 28000, 31000, 27500, 33000, 29000, 35000, 32000, 30000, 28500, 26000, 33500]\n",
        "\n",
        "#(1.1)Se identifica el mejor resultado, se usará \"max\" (Clase 20/05/2024)\n",
        "best_sale = max(ventas_semanales)\n",
        "\n",
        "#(1.1) Se identifica la semana con mejor venta\n",
        "week_best_sale = ventas_semanales.index(best_sale) + 1\n",
        "print(f\"(1.1)El mejor resultado de venta fue en la semana {week_best_sale},y el total de ventas de esa semana fue de {best_sale} nuevos soles\")\n",
        "\n",
        "#(1.2)Se identifica el peor resultado, se usará \"min\" (Clase 20/05/2024)\n",
        "worst_sale = min(ventas_semanales)\n",
        "\n",
        "#(1.2) Se identifica la semana con peor venta\n",
        "week_worst_sale = ventas_semanales.index(worst_sale) + 1\n",
        "print(f\"(1.2)El peor resultado de venta fue en la semana {week_worst_sale},y el total de ventas de esa semana fue de {worst_sale} nuevos soles\")\n",
        "\n",
        "#(1.3)Se calculará la venta promedio, se usará \"sum & len\" (Clase 20/05/2024)\n",
        "average_sale = sum(ventas_semanales)/len(ventas_semanales)\n",
        "print(f\"(1.3)La venta promedio de las doce semanas son de {average_sale} nuevos soles\")\n",
        "\n",
        "#(1.4)Dispersión de las ventas (hallaremos la desvación estándar), nos apoyaremos de la IA del google colab para abrir una librería\n",
        "import statistics as st\n",
        "desviacion_estandar = st.stdev(ventas_semanales)\n",
        "print(f\"(1.4)La desviación estándar de las ventas semanales es de {desviacion_estandar} nuevos soles\")\n",
        "\n",
        "#(1.5)Creando diccionarios (Clase 27/05/2024)\n",
        "info_ventas = {\n",
        "    \"week_best_sale\": week_best_sale,\n",
        "    \"best_sale\": best_sale,\n",
        "    \"week_worst_sale\": week_worst_sale,\n",
        "    \"worst_sale\": worst_sale,\n",
        "    \"average_sale\": 29875,\n",
        "    \"desviacion_estandar\": 3097\n",
        "}\n",
        "info_ventas"
      ]
    },
    {
      "cell_type": "code",
      "source": [
        "Ventas_semanales"
      ],
      "metadata": {
        "colab": {
          "base_uri": "https://localhost:8080/"
        },
        "id": "TC1zR3aR1O9a",
        "outputId": "e6f46964-b667-4c19-e495-5be6e7dd5e51",
        "collapsed": true
      },
      "execution_count": null,
      "outputs": [
        {
          "output_type": "execute_result",
          "data": {
            "text/plain": [
              "[25000,\n",
              " 28000,\n",
              " 31000,\n",
              " 27500,\n",
              " 33000,\n",
              " 29000,\n",
              " 35000,\n",
              " 32000,\n",
              " 30000,\n",
              " 28500,\n",
              " 26000,\n",
              " 33500]"
            ]
          },
          "metadata": {},
          "execution_count": 2
        }
      ]
    },
    {
      "cell_type": "code",
      "source": [
        "# prompt: medida de dispersión\n",
        "\n",
        "import statistics as st\n",
        "\n",
        "desviacion_estandar = st.stdev(ventas_semanales)\n",
        "print(f\"La desviación estándar de las ventas semanales es de {desviacion_estandar} nuevos soles\")\n"
      ],
      "metadata": {
        "id": "dWhYEeV4D9vJ"
      },
      "execution_count": null,
      "outputs": []
    },
    {
      "cell_type": "code",
      "source": [
        "#PREGUNTA 2\n",
        "#(2.1) Almacenando datos\n",
        "tupla_dados = (1, 2, 3, 4, 5, 6)\n",
        "tupla_dados\n",
        "#(2.2) Usamos random.choice(tupla_dados) y la libreria random (import random)\n"
      ],
      "metadata": {
        "id": "VV7pSDrPNfsA",
        "outputId": "78b48679-5566-40c5-8e7a-7b1881a6ca1e",
        "colab": {
          "base_uri": "https://localhost:8080/"
        }
      },
      "execution_count": 6,
      "outputs": [
        {
          "output_type": "execute_result",
          "data": {
            "text/plain": [
              "(1, 2, 3, 4, 5, 6)"
            ]
          },
          "metadata": {},
          "execution_count": 6
        }
      ]
    },
    {
      "cell_type": "code",
      "source": [],
      "metadata": {
        "id": "wDhH7NW1OuDQ"
      },
      "execution_count": null,
      "outputs": []
    }
  ]
}