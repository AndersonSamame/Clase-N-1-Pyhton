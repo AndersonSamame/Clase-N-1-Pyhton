{
  "nbformat": 4,
  "nbformat_minor": 0,
  "metadata": {
    "colab": {
      "name": "modulo 2.ipynb",
      "provenance": [],
      "include_colab_link": true
    },
    "kernelspec": {
      "name": "python3",
      "display_name": "Python 3"
    },
    "language_info": {
      "name": "python"
    }
  },
  "cells": [
    {
      "cell_type": "markdown",
      "metadata": {
        "id": "view-in-github",
        "colab_type": "text"
      },
      "source": [
        "<a href=\"https://colab.research.google.com/github/AndersonSamame/Clase-N-1-Pyhton/blob/main/modulo_1/2.Variables_y_expresiones.ipynb\" target=\"_parent\"><img src=\"https://colab.research.google.com/assets/colab-badge.svg\" alt=\"Open In Colab\"/></a>"
      ]
    },
    {
      "cell_type": "markdown",
      "source": [
        "<img src=\"https://www.ctic.uni.edu.pe/wp-content/uploads/2022/04/588px-x-348px-web-1.png\" alt=\"HTML5 Icon\" width=\"900\" height=\"350\" >\n"
      ],
      "metadata": {
        "id": "qCg1zV0_DK0j"
      }
    },
    {
      "cell_type": "markdown",
      "source": [
        "<h1 align=center><font size = 5> VARIABLES Y EXPRESIONES\n",
        "\n",
        "</font></h1>\n",
        "\n",
        "---"
      ],
      "metadata": {
        "id": "XJ-qSpecBnPA"
      }
    },
    {
      "cell_type": "code",
      "source": [],
      "metadata": {
        "id": "CNR2jsnQug8n"
      },
      "execution_count": null,
      "outputs": []
    },
    {
      "cell_type": "markdown",
      "source": [
        "## Tabla de Contenidos\n",
        "\n",
        "<div class=\"alert alert-block alert-info\" style=\"margin-top: 20px\">\n",
        "\n",
        "<font size = 3>\n",
        "    \n",
        "1. <a href=\"#item31\">Introducción al entorno Python</a>  \n",
        "2. <a href=\"#item31\">Sentencias IF</a>  \n",
        "3. <a href=\"#item31\">Sentencias While</a>  \n",
        "4. <a href=\"#item31\">Sentencias For</a>  \n",
        "\n",
        "</font>\n",
        "</div>\n",
        "\n",
        "---"
      ],
      "metadata": {
        "id": "-METXVBCB-AX"
      }
    },
    {
      "cell_type": "markdown",
      "source": [
        "#1. Introducción al entorno Python"
      ],
      "metadata": {
        "id": "32lFkXesCLmU"
      }
    },
    {
      "cell_type": "markdown",
      "source": [
        "### Verificando la versión de Python"
      ],
      "metadata": {
        "id": "SdnlyoStB_pK"
      }
    },
    {
      "cell_type": "code",
      "source": [
        "!python3"
      ],
      "metadata": {
        "id": "xFe_fHtsApoC",
        "outputId": "38529d2c-9c34-4adb-def4-ef3461a6d44d",
        "colab": {
          "base_uri": "https://localhost:8080/"
        }
      },
      "execution_count": null,
      "outputs": [
        {
          "output_type": "stream",
          "name": "stdout",
          "text": [
            "Python 3.10.12 (main, Nov 20 2023, 15:14:05) [GCC 11.4.0] on linux\n",
            "Type \"help\", \"copyright\", \"credits\" or \"license\" for more information.\n",
            ">>> \n",
            "KeyboardInterrupt\n",
            ">>> \n",
            "KeyboardInterrupt\n",
            ">>> \n",
            "KeyboardInterrupt\n",
            ">>> ^C\n"
          ]
        }
      ]
    },
    {
      "cell_type": "markdown",
      "source": [
        "### Ejecutando en Python"
      ],
      "metadata": {
        "id": "t1iB2a_1A_Nd"
      }
    },
    {
      "cell_type": "code",
      "source": [
        "print(\"Hello Python interpreter!\")"
      ],
      "metadata": {
        "id": "_GUyponPAi_Z",
        "outputId": "a4a28c73-195c-416e-bbff-49838c657a4d",
        "colab": {
          "base_uri": "https://localhost:8080/"
        }
      },
      "execution_count": null,
      "outputs": [
        {
          "output_type": "stream",
          "name": "stdout",
          "text": [
            "Hello Python interpreter!\n"
          ]
        }
      ]
    },
    {
      "cell_type": "markdown",
      "source": [
        "### Variables en Python"
      ],
      "metadata": {
        "id": "sthjyiw1BYm4"
      }
    },
    {
      "cell_type": "code",
      "source": [
        "message = \"Hello Python world!\"\n",
        "print(message)"
      ],
      "metadata": {
        "id": "mGbrzOEtBa7g"
      },
      "execution_count": null,
      "outputs": []
    },
    {
      "cell_type": "code",
      "source": [
        "a = 5\n",
        "b = 10\n",
        "c = a + b\n",
        "print(c)"
      ],
      "metadata": {
        "id": "I0Utf-1KvlKv",
        "outputId": "95091c55-a249-4f2d-e80e-5d901510d17b",
        "colab": {
          "base_uri": "https://localhost:8080/"
        }
      },
      "execution_count": null,
      "outputs": [
        {
          "output_type": "stream",
          "name": "stdout",
          "text": [
            "15\n"
          ]
        }
      ]
    },
    {
      "cell_type": "code",
      "source": [
        "mensaje = 'hola chicos!'"
      ],
      "metadata": {
        "id": "H4P7vJPMvuqn"
      },
      "execution_count": null,
      "outputs": []
    },
    {
      "cell_type": "code",
      "source": [
        "print(mensaje)"
      ],
      "metadata": {
        "id": "KTYUOjfTvyeP",
        "outputId": "93d5d7ac-5a16-451e-e8a2-af33959d21b7",
        "colab": {
          "base_uri": "https://localhost:8080/"
        }
      },
      "execution_count": null,
      "outputs": [
        {
          "output_type": "stream",
          "name": "stdout",
          "text": [
            "hola chicos!\n"
          ]
        }
      ]
    },
    {
      "cell_type": "code",
      "source": [
        "name = 'jhon'\n",
        "curso = 'Programación'\n",
        "nota = '20'\n",
        "print(name)"
      ],
      "metadata": {
        "id": "qJv_Yq7Nw1AO",
        "outputId": "c45603a1-b886-4dd7-9c69-c1a830a8d1a9",
        "colab": {
          "base_uri": "https://localhost:8080/"
        }
      },
      "execution_count": null,
      "outputs": [
        {
          "output_type": "stream",
          "name": "stdout",
          "text": [
            "jhon\n"
          ]
        }
      ]
    },
    {
      "cell_type": "code",
      "source": [
        "print(f\"bienvenido al curso {name}, que te vaya bien en el curso de {curso}. La nota minima para aprobrar es de {nota} \")"
      ],
      "metadata": {
        "id": "9u2Xgvd_xh6u",
        "outputId": "00268aca-d1d7-4e82-bb92-1c9c547fe233",
        "colab": {
          "base_uri": "https://localhost:8080/"
        }
      },
      "execution_count": null,
      "outputs": [
        {
          "output_type": "stream",
          "name": "stdout",
          "text": [
            "bienvenido al curso jhon, que te vaya bien en el curso de Programación. La nota minima para aprobrar es de 20 \n"
          ]
        }
      ]
    },
    {
      "cell_type": "code",
      "source": [
        "nombre = 'Vladimir'\n",
        "apellido = 'Samame'\n",
        "print(f\"Bienvenido al curso de Programación, {nombre} {apellido}, en esta clase vas aprender a programar\")"
      ],
      "metadata": {
        "id": "3V6HPk1qzd6W",
        "outputId": "d2907cb2-3fc9-4b83-ecb1-3e39897d3bbf",
        "colab": {
          "base_uri": "https://localhost:8080/"
        }
      },
      "execution_count": null,
      "outputs": [
        {
          "output_type": "stream",
          "name": "stdout",
          "text": [
            "Bienvenido al curso de Programación, Vladimir Samame, en esta clase vas aprender a programar\n"
          ]
        }
      ]
    },
    {
      "cell_type": "code",
      "source": [
        "name = input('Ingrese su nombre')\n",
        "apellido = input('Ingrese su apellido')\n",
        "print(f\"Bienvenido al curso estimado {name} {apellido} \")\n",
        "name"
      ],
      "metadata": {
        "id": "KXzodQvt04PV",
        "outputId": "ab39e7a6-55c0-417b-8922-f2b60e244f42",
        "colab": {
          "base_uri": "https://localhost:8080/",
          "height": 87
        }
      },
      "execution_count": null,
      "outputs": [
        {
          "output_type": "stream",
          "name": "stdout",
          "text": [
            "Ingrese su nombre.\n",
            "Ingrese su apellido.\n",
            "Bienvenido al curso estimado . . \n"
          ]
        },
        {
          "output_type": "execute_result",
          "data": {
            "text/plain": [
              "'.'"
            ],
            "application/vnd.google.colaboratory.intrinsic+json": {
              "type": "string"
            }
          },
          "metadata": {},
          "execution_count": 18
        }
      ]
    },
    {
      "cell_type": "code",
      "source": [
        "type(name)"
      ],
      "metadata": {
        "id": "MZ9-JTPb3MmU",
        "outputId": "b2e4b8b1-9fbb-4056-b81c-bc8f3c5d15d0",
        "colab": {
          "base_uri": "https://localhost:8080/"
        }
      },
      "execution_count": null,
      "outputs": [
        {
          "output_type": "execute_result",
          "data": {
            "text/plain": [
              "str"
            ]
          },
          "metadata": {},
          "execution_count": 19
        }
      ]
    },
    {
      "cell_type": "code",
      "source": [
        "name = 'vladimir anderson af aefes.hh th '\n",
        "print(name.title())"
      ],
      "metadata": {
        "id": "ZfZmU4hW3Qjs",
        "outputId": "eba1bad6-2b09-4e66-d944-be9f82aa3d44",
        "colab": {
          "base_uri": "https://localhost:8080/"
        }
      },
      "execution_count": null,
      "outputs": [
        {
          "output_type": "stream",
          "name": "stdout",
          "text": [
            "Vladimir Anderson Af Aefes.Hh Th \n"
          ]
        }
      ]
    },
    {
      "cell_type": "code",
      "source": [
        "name = 'vladimir anderson af aefes.hh th '\n",
        "print(name.capitalize())"
      ],
      "metadata": {
        "id": "xFh2lAFe4kO-",
        "outputId": "72c304ba-ec51-49bc-8d24-6ad3f75e4c06",
        "colab": {
          "base_uri": "https://localhost:8080/"
        }
      },
      "execution_count": null,
      "outputs": [
        {
          "output_type": "stream",
          "name": "stdout",
          "text": [
            "Vladimir anderson af aefes.hh th \n"
          ]
        }
      ]
    },
    {
      "cell_type": "markdown",
      "source": [
        "### Usando variables con strings"
      ],
      "metadata": {
        "id": "67A0ZgROBH2G"
      }
    },
    {
      "cell_type": "code",
      "source": [
        "first_name = \"John\"\n",
        "last_name = \"Caballero\"\n",
        "\n",
        "full_name = f\"{first_name} {last_name}\"\n",
        "print(full_name)\n"
      ],
      "metadata": {
        "id": "imkWRD_NGhM7"
      },
      "execution_count": null,
      "outputs": []
    },
    {
      "cell_type": "code",
      "source": [
        "first_name = str(input('Ingrese el primer nombre: '))\n",
        "last_name = str(input('Ingrese el apellido: '))\n",
        "\n",
        "full_name = f\"{first_name} {last_name}\"\n",
        "print(f\"Bienvenido {full_name}!\")\n"
      ],
      "metadata": {
        "id": "ldadfir2G-ee"
      },
      "execution_count": null,
      "outputs": []
    },
    {
      "cell_type": "code",
      "source": [
        "print(f\"Hola, {full_name.title()}!\")"
      ],
      "metadata": {
        "id": "9DXlUqRdHWpy"
      },
      "execution_count": null,
      "outputs": []
    },
    {
      "cell_type": "code",
      "source": [
        "message = f\"Hola, {full_name.title()}!\"\n",
        "print(message)"
      ],
      "metadata": {
        "id": "ovwhbcW4HnNO"
      },
      "execution_count": null,
      "outputs": []
    },
    {
      "cell_type": "code",
      "source": [
        "print(\"Python\")"
      ],
      "metadata": {
        "id": "d7c9EIszIADO"
      },
      "execution_count": null,
      "outputs": []
    },
    {
      "cell_type": "code",
      "source": [
        "print(\"Python's\")"
      ],
      "metadata": {
        "id": "ypepBjltTCHR",
        "outputId": "d08336f5-12a2-4c91-b8b2-0e96c745780c",
        "colab": {
          "base_uri": "https://localhost:8080/"
        }
      },
      "execution_count": null,
      "outputs": [
        {
          "output_type": "stream",
          "name": "stdout",
          "text": [
            "Python's\n"
          ]
        }
      ]
    },
    {
      "cell_type": "code",
      "source": [
        "print(\"\\t\\t\\t\\tPython\")"
      ],
      "metadata": {
        "id": "hGmARCyTH_8F",
        "outputId": "16fbd2c3-ae79-416e-863f-26bb7d37db72",
        "colab": {
          "base_uri": "https://localhost:8080/"
        }
      },
      "execution_count": null,
      "outputs": [
        {
          "output_type": "stream",
          "name": "stdout",
          "text": [
            "\t\t\t\tPython\n"
          ]
        }
      ]
    },
    {
      "cell_type": "code",
      "source": [
        "print(\"anderson\\nSamame\\nRomero\")"
      ],
      "metadata": {
        "id": "IB0HSHmh61b0",
        "outputId": "b7220f6e-a553-43c6-a727-80d11345c9f6",
        "colab": {
          "base_uri": "https://localhost:8080/"
        }
      },
      "execution_count": null,
      "outputs": [
        {
          "output_type": "stream",
          "name": "stdout",
          "text": [
            "anderson\n",
            "Samame\n",
            "Romero\n"
          ]
        }
      ]
    },
    {
      "cell_type": "code",
      "source": [],
      "metadata": {
        "id": "32yGa8fNCO77"
      },
      "execution_count": null,
      "outputs": []
    },
    {
      "cell_type": "code",
      "source": [
        "print(\"Languages:\\nPython\\nC\\nJavaScript\")"
      ],
      "metadata": {
        "id": "7sLWgXNbH_zY"
      },
      "execution_count": null,
      "outputs": []
    },
    {
      "cell_type": "code",
      "source": [
        "print(\"Languages:\\n\\tPython\\n\\tC\\n\\tJavaScript\")"
      ],
      "metadata": {
        "id": "GHwzRJQeIgCo"
      },
      "execution_count": null,
      "outputs": []
    },
    {
      "cell_type": "markdown",
      "source": [
        "### Espacios en python"
      ],
      "metadata": {
        "id": "uV4g9yt5It7q"
      }
    },
    {
      "cell_type": "code",
      "source": [
        "favorite_language = 'python '\n",
        "favorite_language"
      ],
      "metadata": {
        "id": "3WM1AbohIpnt"
      },
      "execution_count": null,
      "outputs": []
    },
    {
      "cell_type": "code",
      "source": [
        "favorite_language.rstrip()"
      ],
      "metadata": {
        "id": "L465tOhkIqNd"
      },
      "execution_count": null,
      "outputs": []
    },
    {
      "cell_type": "code",
      "source": [
        "favorite_language"
      ],
      "metadata": {
        "id": "7AFWklYBJzQ6"
      },
      "execution_count": null,
      "outputs": []
    },
    {
      "cell_type": "code",
      "source": [
        "favorite_language = 'python '\n",
        "favorite_language = favorite_language.rstrip()\n",
        "favorite_language"
      ],
      "metadata": {
        "id": "9fqYGKCRJk1R"
      },
      "execution_count": null,
      "outputs": []
    },
    {
      "cell_type": "code",
      "source": [
        "favorite_language = ' python '\n",
        "favorite_language"
      ],
      "metadata": {
        "id": "3uDiKbdIKI0M"
      },
      "execution_count": null,
      "outputs": []
    },
    {
      "cell_type": "code",
      "source": [
        "favorite_language.rstrip()"
      ],
      "metadata": {
        "id": "FbVFEWqQKSwS"
      },
      "execution_count": null,
      "outputs": []
    },
    {
      "cell_type": "code",
      "source": [
        "favorite_language.lstrip()"
      ],
      "metadata": {
        "id": "tE4HafwRKJx6"
      },
      "execution_count": null,
      "outputs": []
    },
    {
      "cell_type": "code",
      "source": [
        "favorite_language.strip()"
      ],
      "metadata": {
        "id": "ZgZ9X5kgKJUS"
      },
      "execution_count": null,
      "outputs": []
    },
    {
      "cell_type": "markdown",
      "source": [
        "### Problemas comunes"
      ],
      "metadata": {
        "id": "RSYDstcmLdkD"
      }
    },
    {
      "cell_type": "code",
      "source": [
        "message = \"El libro 'Harry Potter' fue un best seller\"\n",
        "print(message)"
      ],
      "metadata": {
        "id": "Tm8cU1yqLc5M"
      },
      "execution_count": null,
      "outputs": []
    },
    {
      "cell_type": "code",
      "source": [
        "message = 'One of Python's strengths is its diverse community.'\n",
        "print(message)"
      ],
      "metadata": {
        "id": "nxUO09lkNFuk"
      },
      "execution_count": null,
      "outputs": []
    },
    {
      "cell_type": "markdown",
      "source": [
        "### Números"
      ],
      "metadata": {
        "id": "cf-y9DtENQLY"
      }
    },
    {
      "cell_type": "code",
      "source": [
        "2 + 3"
      ],
      "metadata": {
        "id": "NU8oYEG9NPWl",
        "outputId": "991a62fe-75b7-452a-e0ab-63a3149acb16",
        "colab": {
          "base_uri": "https://localhost:8080/"
        }
      },
      "execution_count": null,
      "outputs": [
        {
          "output_type": "execute_result",
          "data": {
            "text/plain": [
              "5"
            ]
          },
          "metadata": {},
          "execution_count": 29
        }
      ]
    },
    {
      "cell_type": "code",
      "source": [
        "3 ** 2"
      ],
      "metadata": {
        "id": "UR4mC6E-Nbhw"
      },
      "execution_count": null,
      "outputs": []
    },
    {
      "cell_type": "code",
      "source": [
        "(2 + 3) * 4"
      ],
      "metadata": {
        "id": "K_Gln-FfNeO9",
        "outputId": "33eacda0-fdf2-4fd8-cb34-4494f6358500",
        "colab": {
          "base_uri": "https://localhost:8080/"
        }
      },
      "execution_count": null,
      "outputs": [
        {
          "output_type": "execute_result",
          "data": {
            "text/plain": [
              "20"
            ]
          },
          "metadata": {},
          "execution_count": 30
        }
      ]
    },
    {
      "cell_type": "markdown",
      "source": [
        "### Floats"
      ],
      "metadata": {
        "id": "ubo6p0b-NhjD"
      }
    },
    {
      "cell_type": "code",
      "source": [
        "0.1 + 0.1"
      ],
      "metadata": {
        "id": "RQxlR6oyNmoG",
        "outputId": "a5c86949-1970-47d8-b2bd-ec86f96c7d59",
        "colab": {
          "base_uri": "https://localhost:8080/"
        }
      },
      "execution_count": null,
      "outputs": [
        {
          "output_type": "execute_result",
          "data": {
            "text/plain": [
              "0.2"
            ]
          },
          "metadata": {},
          "execution_count": 31
        }
      ]
    },
    {
      "cell_type": "code",
      "source": [
        "2 * 0.2"
      ],
      "metadata": {
        "id": "uWQ-911qNskj",
        "outputId": "599a01d7-376f-441c-fdca-0411a3740ab6",
        "colab": {
          "base_uri": "https://localhost:8080/"
        }
      },
      "execution_count": null,
      "outputs": [
        {
          "output_type": "execute_result",
          "data": {
            "text/plain": [
              "0.4"
            ]
          },
          "metadata": {},
          "execution_count": 32
        }
      ]
    },
    {
      "cell_type": "code",
      "source": [
        "0.2 + 0.11"
      ],
      "metadata": {
        "id": "BcImgVOtNySt",
        "outputId": "4833577a-3eae-4ffd-c7a4-d97735909dbd",
        "colab": {
          "base_uri": "https://localhost:8080/"
        }
      },
      "execution_count": null,
      "outputs": [
        {
          "output_type": "execute_result",
          "data": {
            "text/plain": [
              "0.31"
            ]
          },
          "metadata": {},
          "execution_count": 37
        }
      ]
    },
    {
      "cell_type": "code",
      "source": [
        "4/2"
      ],
      "metadata": {
        "id": "MINnKzjLFtGZ",
        "outputId": "5888646a-a548-4c19-8c7e-ae98aa8b18d8",
        "colab": {
          "base_uri": "https://localhost:8080/"
        }
      },
      "execution_count": null,
      "outputs": [
        {
          "output_type": "execute_result",
          "data": {
            "text/plain": [
              "2.0"
            ]
          },
          "metadata": {},
          "execution_count": 38
        }
      ]
    },
    {
      "cell_type": "code",
      "source": [
        "1+2.0"
      ],
      "metadata": {
        "id": "5SXc3qPjF9eB",
        "outputId": "b1ee2218-16b8-4415-c938-529e4c8dd076",
        "colab": {
          "base_uri": "https://localhost:8080/"
        }
      },
      "execution_count": null,
      "outputs": [
        {
          "output_type": "execute_result",
          "data": {
            "text/plain": [
              "3.0"
            ]
          },
          "metadata": {},
          "execution_count": 39
        }
      ]
    },
    {
      "cell_type": "code",
      "source": [
        "type(10.0)"
      ],
      "metadata": {
        "id": "pZ2d_cuxEE5B",
        "outputId": "f9397676-70b2-4906-b251-561cc23c4b67",
        "colab": {
          "base_uri": "https://localhost:8080/"
        }
      },
      "execution_count": null,
      "outputs": [
        {
          "output_type": "execute_result",
          "data": {
            "text/plain": [
              "float"
            ]
          },
          "metadata": {},
          "execution_count": 34
        }
      ]
    },
    {
      "cell_type": "markdown",
      "source": [
        "### Enteros y Floats"
      ],
      "metadata": {
        "id": "a_1vW_FNOIf5"
      }
    },
    {
      "cell_type": "code",
      "source": [
        "4/2"
      ],
      "metadata": {
        "id": "iN7X2ZWWOLFS"
      },
      "execution_count": null,
      "outputs": []
    },
    {
      "cell_type": "code",
      "source": [
        "1 + 2.0"
      ],
      "metadata": {
        "id": "D9dA2ELhORGk"
      },
      "execution_count": null,
      "outputs": []
    },
    {
      "cell_type": "code",
      "source": [
        "1*3.0"
      ],
      "metadata": {
        "id": "wwDLo_S_Vhpr"
      },
      "execution_count": null,
      "outputs": []
    },
    {
      "cell_type": "markdown",
      "source": [
        "### Guiones bajos en números"
      ],
      "metadata": {
        "id": "8ICC-mT0OsHE"
      }
    },
    {
      "cell_type": "code",
      "source": [
        "universe_age = 14_000_000_000\n",
        "print(universe_age)"
      ],
      "metadata": {
        "id": "9a4-mKc8OqI8"
      },
      "execution_count": null,
      "outputs": []
    },
    {
      "cell_type": "markdown",
      "source": [
        "### Asignación Múltiple"
      ],
      "metadata": {
        "id": "53q3i_pyPEey"
      }
    },
    {
      "cell_type": "code",
      "source": [
        "a, b = 1, 2\n",
        "b"
      ],
      "metadata": {
        "id": "Tp7oXgPsWQzf"
      },
      "execution_count": null,
      "outputs": []
    },
    {
      "cell_type": "code",
      "source": [
        "x, y, z = 0, 0, 0"
      ],
      "metadata": {
        "id": "jZIDGHQePh6B"
      },
      "execution_count": null,
      "outputs": []
    },
    {
      "cell_type": "code",
      "source": [
        "y"
      ],
      "metadata": {
        "id": "lQR7E1gtPiyR"
      },
      "execution_count": null,
      "outputs": []
    },
    {
      "cell_type": "markdown",
      "source": [
        "### Constantes"
      ],
      "metadata": {
        "id": "pncAPB7TPruo"
      }
    },
    {
      "cell_type": "code",
      "source": [
        "MAX_CONNECTIONS = 5000"
      ],
      "metadata": {
        "id": "AUR_RlTEPvZZ"
      },
      "execution_count": null,
      "outputs": []
    },
    {
      "cell_type": "markdown",
      "source": [
        "<b> Ejercicio </b>\n",
        "\n",
        "Usa una variable para representar un número. Luego, usando esa variable, cree un mensaje que revele su número. Imprime ese mensaje."
      ],
      "metadata": {
        "id": "CpJsuNbVRKZ3"
      }
    },
    {
      "cell_type": "markdown",
      "source": [
        "Doble-click __aquí__ para ver la solución.\n",
        "<!-- La respuesta es:\n",
        "num = 12\n",
        "print(f\"El número es {num}\")\n",
        "-->\n",
        "\n"
      ],
      "metadata": {
        "id": "jMC81ZCBTmJc"
      }
    },
    {
      "cell_type": "markdown",
      "source": [
        "### Comentarios"
      ],
      "metadata": {
        "id": "VAUMMfzqQ_OK"
      }
    },
    {
      "cell_type": "code",
      "source": [
        "# Código para saludar.\n",
        "print(\"Hola programadores de Python!\")"
      ],
      "metadata": {
        "id": "MHCgX32dOnPy"
      },
      "execution_count": null,
      "outputs": []
    },
    {
      "cell_type": "markdown",
      "source": [
        "### El Zen de Python"
      ],
      "metadata": {
        "id": "XTsX-ps8mIBd"
      }
    },
    {
      "cell_type": "code",
      "source": [
        "import this"
      ],
      "metadata": {
        "id": "dB9VCvLST7Gp",
        "outputId": "9e09ea90-063c-4dc2-8e87-c7c7ced9d57b",
        "colab": {
          "base_uri": "https://localhost:8080/"
        }
      },
      "execution_count": null,
      "outputs": [
        {
          "output_type": "stream",
          "name": "stdout",
          "text": [
            "The Zen of Python, by Tim Peters\n",
            "\n",
            "Beautiful is better than ugly.\n",
            "Explicit is better than implicit.\n",
            "Simple is better than complex.\n",
            "Complex is better than complicated.\n",
            "Flat is better than nested.\n",
            "Sparse is better than dense.\n",
            "Readability counts.\n",
            "Special cases aren't special enough to break the rules.\n",
            "Although practicality beats purity.\n",
            "Errors should never pass silently.\n",
            "Unless explicitly silenced.\n",
            "In the face of ambiguity, refuse the temptation to guess.\n",
            "There should be one-- and preferably only one --obvious way to do it.\n",
            "Although that way may not be obvious at first unless you're Dutch.\n",
            "Now is better than never.\n",
            "Although never is often better than *right* now.\n",
            "If the implementation is hard to explain, it's a bad idea.\n",
            "If the implementation is easy to explain, it may be a good idea.\n",
            "Namespaces are one honking great idea -- let's do more of those!\n"
          ]
        }
      ]
    },
    {
      "cell_type": "markdown",
      "source": [
        "### Introducción a listas"
      ],
      "metadata": {
        "id": "nsNQXu4ScwxS"
      }
    },
    {
      "cell_type": "code",
      "source": [
        "# Index 0       1         2           3        4\n",
        "       -5       -4         -3         -2       -1\n",
        "a = ['John', 'Ricardo', 'Marcelo', 'Heidy', 'Nataly']\n",
        "a[-4]"
      ],
      "metadata": {
        "id": "ac3vjbHibA42",
        "outputId": "74fb9f97-aed4-491d-909b-eceae720554f",
        "colab": {
          "base_uri": "https://localhost:8080/",
          "height": 35
        }
      },
      "execution_count": null,
      "outputs": [
        {
          "output_type": "execute_result",
          "data": {
            "text/plain": [
              "'Ricardo'"
            ],
            "application/vnd.google.colaboratory.intrinsic+json": {
              "type": "string"
            }
          },
          "metadata": {},
          "execution_count": 5
        }
      ]
    },
    {
      "cell_type": "code",
      "source": [
        "Lista_compras = ['harina', 'huevos', 'palta', 'azucar']\n",
        "Lista_compras[1]"
      ],
      "metadata": {
        "id": "Zmimq9NOjn_I",
        "outputId": "fbc7ca80-9259-4198-8a48-ba7ca383e694",
        "colab": {
          "base_uri": "https://localhost:8080/",
          "height": 35
        }
      },
      "execution_count": null,
      "outputs": [
        {
          "output_type": "execute_result",
          "data": {
            "text/plain": [
              "'huevos'"
            ],
            "application/vnd.google.colaboratory.intrinsic+json": {
              "type": "string"
            }
          },
          "metadata": {},
          "execution_count": 8
        }
      ]
    },
    {
      "cell_type": "code",
      "source": [
        "[Lista_compras[0]].append([Lista_compras[2]])"
      ],
      "metadata": {
        "id": "DWTZMlwykumM"
      },
      "execution_count": null,
      "outputs": []
    },
    {
      "cell_type": "code",
      "source": [
        "Lista_compras[0:5:2]"
      ],
      "metadata": {
        "id": "c2zKIIOMlvPQ",
        "outputId": "d9f1cb8d-0447-4b5e-d114-36a099e65587",
        "colab": {
          "base_uri": "https://localhost:8080/"
        }
      },
      "execution_count": null,
      "outputs": [
        {
          "output_type": "execute_result",
          "data": {
            "text/plain": [
              "['harina', 'palta']"
            ]
          },
          "metadata": {},
          "execution_count": 11
        }
      ]
    },
    {
      "cell_type": "code",
      "source": [
        "a = [1, 10, 4, 5, 99.0]\n",
        "a"
      ],
      "metadata": {
        "id": "v4lFhW1sbg_2"
      },
      "execution_count": null,
      "outputs": []
    },
    {
      "cell_type": "code",
      "source": [
        "a = [1, 10, 4, 5, 'Nataly']\n",
        "a"
      ],
      "metadata": {
        "id": "pz_NpJO6brs0"
      },
      "execution_count": null,
      "outputs": []
    },
    {
      "cell_type": "code",
      "source": [
        "a = [1, 10, 4, 5, None]\n",
        "a"
      ],
      "metadata": {
        "id": "0ufNgmA_b0M4"
      },
      "execution_count": null,
      "outputs": []
    },
    {
      "cell_type": "code",
      "source": [
        "a = [1, 10, 4, 5, [2, 3, 8]]\n",
        "a"
      ],
      "metadata": {
        "id": "h35YXpuwb8ao",
        "outputId": "85b4f229-f1f1-44de-b3f5-7c3d54107cc9",
        "colab": {
          "base_uri": "https://localhost:8080/"
        }
      },
      "execution_count": null,
      "outputs": [
        {
          "output_type": "execute_result",
          "data": {
            "text/plain": [
              "[1, 10, 4, 5, [2, 3, 8]]"
            ]
          },
          "metadata": {},
          "execution_count": 15
        }
      ]
    },
    {
      "cell_type": "code",
      "source": [
        "a[0]"
      ],
      "metadata": {
        "id": "PQTHxd5qcLbF",
        "outputId": "9dca2f27-19dc-43f1-f0db-dbe2f20be884",
        "colab": {
          "base_uri": "https://localhost:8080/"
        }
      },
      "execution_count": null,
      "outputs": [
        {
          "output_type": "execute_result",
          "data": {
            "text/plain": [
              "1"
            ]
          },
          "metadata": {},
          "execution_count": 16
        }
      ]
    },
    {
      "cell_type": "code",
      "source": [
        "a[3]"
      ],
      "metadata": {
        "id": "ePpVwfRzcadx",
        "outputId": "032fea86-7bdf-4e70-9aa2-96b801fd0f87",
        "colab": {
          "base_uri": "https://localhost:8080/"
        }
      },
      "execution_count": null,
      "outputs": [
        {
          "output_type": "execute_result",
          "data": {
            "text/plain": [
              "5"
            ]
          },
          "metadata": {},
          "execution_count": 17
        }
      ]
    },
    {
      "cell_type": "code",
      "source": [
        "a[4][1]"
      ],
      "metadata": {
        "id": "NDzQJNJHckjd",
        "outputId": "1a42f0fa-a4bb-47f8-ee2a-65f1b942b89b",
        "colab": {
          "base_uri": "https://localhost:8080/"
        }
      },
      "execution_count": null,
      "outputs": [
        {
          "output_type": "execute_result",
          "data": {
            "text/plain": [
              "3"
            ]
          },
          "metadata": {},
          "execution_count": 18
        }
      ]
    },
    {
      "cell_type": "code",
      "source": [
        "data_base = []"
      ],
      "metadata": {
        "id": "IobLGRDushOm"
      },
      "execution_count": null,
      "outputs": []
    },
    {
      "cell_type": "code",
      "source": [
        "nombre = input('Ingrese su nombre: ')\n",
        "edad = int(input('Indique su edad en años: '))\n",
        "uni = input('Indique su universidad: ')\n",
        "dist = input('Indique su distrito de residencia: ')\n",
        "lista = [nombre, edad, uni, dist]\n",
        "data_base.append(lista)\n",
        "print('Gracias por sus respuestas')"
      ],
      "metadata": {
        "id": "pkkQ6Co5oqku",
        "outputId": "018e8e09-af53-46b4-f06a-531aa1cd61d4",
        "colab": {
          "base_uri": "https://localhost:8080/"
        }
      },
      "execution_count": null,
      "outputs": [
        {
          "output_type": "stream",
          "name": "stdout",
          "text": [
            "Ingrese su nombre: 2\n",
            "Indique su edad en años: 2\n",
            "Indique su universidad: 2\n",
            "Indique su distrito de residencia: 2\n",
            "Gracias por sus respuestas\n"
          ]
        }
      ]
    },
    {
      "cell_type": "code",
      "source": [
        "data_base\n"
      ],
      "metadata": {
        "id": "XY85L5SQpneW",
        "outputId": "66dafdb9-f7e8-4c40-98f1-45c24da5da81",
        "colab": {
          "base_uri": "https://localhost:8080/"
        }
      },
      "execution_count": null,
      "outputs": [
        {
          "output_type": "execute_result",
          "data": {
            "text/plain": [
              "[['1', 1, '1', '1'], ['2', 2, '2', '2']]"
            ]
          },
          "metadata": {},
          "execution_count": 42
        }
      ]
    },
    {
      "cell_type": "markdown",
      "source": [
        "# 2. Sentencias IF"
      ],
      "metadata": {
        "id": "AR6JaCmmRB6V"
      }
    },
    {
      "cell_type": "code",
      "source": [
        "cars = ['audi', 'bmw', 'subaru', 'toyota']\n",
        "\n",
        "for car in cars:\n",
        "  if car == 'bmw':\n",
        "    print(car.upper())\n",
        "  else:\n",
        "    print(car.title())"
      ],
      "metadata": {
        "id": "GY71b_kGmTAl"
      },
      "execution_count": null,
      "outputs": []
    },
    {
      "cell_type": "markdown",
      "source": [
        "### Igualdades"
      ],
      "metadata": {
        "id": "NhyOyyLtnaLV"
      }
    },
    {
      "cell_type": "code",
      "source": [
        "1 = 2"
      ],
      "metadata": {
        "id": "YZkf5aLHmhde"
      },
      "execution_count": null,
      "outputs": []
    },
    {
      "cell_type": "code",
      "source": [
        "1 == 2"
      ],
      "metadata": {
        "id": "qi5sJLuUmR0m",
        "outputId": "431a9a20-f20a-48b2-887b-c2100ed36aff",
        "colab": {
          "base_uri": "https://localhost:8080/"
        }
      },
      "execution_count": null,
      "outputs": [
        {
          "output_type": "execute_result",
          "data": {
            "text/plain": [
              "False"
            ]
          },
          "metadata": {},
          "execution_count": 4
        }
      ]
    },
    {
      "cell_type": "code",
      "source": [
        "a = 5\n",
        "b = 2\n",
        "a == b"
      ],
      "metadata": {
        "id": "j-XLsQqXxOOk",
        "outputId": "b042dab5-9947-4faf-c7c9-1d3723dadb37",
        "colab": {
          "base_uri": "https://localhost:8080/"
        }
      },
      "execution_count": null,
      "outputs": [
        {
          "output_type": "execute_result",
          "data": {
            "text/plain": [
              "False"
            ]
          },
          "metadata": {},
          "execution_count": 5
        }
      ]
    },
    {
      "cell_type": "code",
      "source": [
        "a = 'hola'\n",
        "a ==1"
      ],
      "metadata": {
        "id": "kSer19tSx2LL",
        "outputId": "55587325-194c-481c-dd49-fca05c983c97",
        "colab": {
          "base_uri": "https://localhost:8080/"
        }
      },
      "execution_count": null,
      "outputs": [
        {
          "output_type": "execute_result",
          "data": {
            "text/plain": [
              "False"
            ]
          },
          "metadata": {},
          "execution_count": 6
        }
      ]
    },
    {
      "cell_type": "code",
      "source": [
        "type(a) == str\n"
      ],
      "metadata": {
        "id": "QRu8dG_ex7r7",
        "outputId": "ec711ef2-46ee-4367-9320-d3c49be58ba2",
        "colab": {
          "base_uri": "https://localhost:8080/"
        }
      },
      "execution_count": null,
      "outputs": [
        {
          "output_type": "execute_result",
          "data": {
            "text/plain": [
              "True"
            ]
          },
          "metadata": {},
          "execution_count": 7
        }
      ]
    },
    {
      "cell_type": "code",
      "source": [
        "2 < 2"
      ],
      "metadata": {
        "id": "8T_pNL9gmoT8",
        "outputId": "a6cb985c-dc47-4f84-e8b6-c82de00617c8",
        "colab": {
          "base_uri": "https://localhost:8080/"
        }
      },
      "execution_count": null,
      "outputs": [
        {
          "output_type": "execute_result",
          "data": {
            "text/plain": [
              "False"
            ]
          },
          "metadata": {},
          "execution_count": 8
        }
      ]
    },
    {
      "cell_type": "code",
      "source": [
        "2 == 2.0"
      ],
      "metadata": {
        "id": "hSQ9bC3Vmy96"
      },
      "execution_count": null,
      "outputs": []
    },
    {
      "cell_type": "code",
      "source": [
        "abc = 'bMw   '\n",
        "abc.strip().capitalize() == 'bmw'"
      ],
      "metadata": {
        "id": "PukwJABJm1rP",
        "outputId": "c8018d92-da62-47df-d357-c2d8403c5847",
        "colab": {
          "base_uri": "https://localhost:8080/"
        }
      },
      "execution_count": null,
      "outputs": [
        {
          "output_type": "execute_result",
          "data": {
            "text/plain": [
              "False"
            ]
          },
          "metadata": {},
          "execution_count": 23
        }
      ]
    },
    {
      "cell_type": "code",
      "source": [
        "car = 'bMw     '\n",
        "car.strip().capitalize() == 'bmw'"
      ],
      "metadata": {
        "id": "KZgxQrTe4Vwi",
        "outputId": "675513a2-4609-4189-d165-48415c5f42e6",
        "colab": {
          "base_uri": "https://localhost:8080/"
        }
      },
      "execution_count": null,
      "outputs": [
        {
          "output_type": "execute_result",
          "data": {
            "text/plain": [
              "False"
            ]
          },
          "metadata": {},
          "execution_count": 21
        }
      ]
    },
    {
      "cell_type": "code",
      "source": [
        "car = 'audi'\n",
        "car == 'bmw'"
      ],
      "metadata": {
        "id": "cz5ibI_Wm9lq",
        "outputId": "055bc4d4-91d8-43f9-c24d-ba0c719c2376",
        "colab": {
          "base_uri": "https://localhost:8080/"
        }
      },
      "execution_count": null,
      "outputs": [
        {
          "output_type": "execute_result",
          "data": {
            "text/plain": [
              "False"
            ]
          },
          "metadata": {},
          "execution_count": 14
        }
      ]
    },
    {
      "cell_type": "markdown",
      "source": [
        "Ignorando Mayusculas en igualdades"
      ],
      "metadata": {
        "id": "yEggshtHom4j"
      }
    },
    {
      "cell_type": "code",
      "source": [
        "car = 'Audi'\n",
        "car == 'audi'"
      ],
      "metadata": {
        "id": "2tLQKu9KnLC3"
      },
      "execution_count": null,
      "outputs": []
    },
    {
      "cell_type": "code",
      "source": [
        "car.lower()"
      ],
      "metadata": {
        "id": "VFNGrgdfnZPK"
      },
      "execution_count": null,
      "outputs": []
    },
    {
      "cell_type": "code",
      "source": [
        "car.upper()"
      ],
      "metadata": {
        "id": "8SDmobRZnNsl"
      },
      "execution_count": null,
      "outputs": []
    },
    {
      "cell_type": "code",
      "source": [
        "car = 'Audi'\n",
        "car.lower() == 'audi'"
      ],
      "metadata": {
        "id": "WOnmTIX9m3IQ"
      },
      "execution_count": null,
      "outputs": []
    },
    {
      "cell_type": "markdown",
      "source": [
        "### Desigualdades"
      ],
      "metadata": {
        "id": "QJzj1X6undzm"
      }
    },
    {
      "cell_type": "code",
      "source": [
        "1 != 2"
      ],
      "metadata": {
        "id": "9u0Sho8vno-g"
      },
      "execution_count": null,
      "outputs": []
    },
    {
      "cell_type": "code",
      "source": [
        "'Audi' != 'audi'"
      ],
      "metadata": {
        "id": "EADKhXulntOP"
      },
      "execution_count": null,
      "outputs": []
    },
    {
      "cell_type": "code",
      "source": [
        "2 != 2.0"
      ],
      "metadata": {
        "id": "lRCCtFKBnweq"
      },
      "execution_count": null,
      "outputs": []
    },
    {
      "cell_type": "code",
      "source": [
        "requested_topping = 'champiñones'\n",
        "\n",
        "if requested_topping != 'Anchoas':\n",
        "  print(\"Sostén las Anchoas!\")\n"
      ],
      "metadata": {
        "id": "4x_KuchGnhHR"
      },
      "execution_count": null,
      "outputs": []
    },
    {
      "cell_type": "markdown",
      "source": [
        "### Comparar Números"
      ],
      "metadata": {
        "id": "9hZEAyQNpIDq"
      }
    },
    {
      "cell_type": "code",
      "source": [
        "age = 18\n",
        "age == 18"
      ],
      "metadata": {
        "id": "TkAawBSMpHmN"
      },
      "execution_count": null,
      "outputs": []
    },
    {
      "cell_type": "code",
      "source": [
        "answer = int(input('cuánto es raiz cuadrada de 400: '))"
      ],
      "metadata": {
        "id": "ENvkFBMFtva-",
        "outputId": "acc6777e-09d7-4a92-ff2b-985b835ca3f5",
        "colab": {
          "base_uri": "https://localhost:8080/"
        }
      },
      "execution_count": null,
      "outputs": [
        {
          "name": "stdout",
          "output_type": "stream",
          "text": [
            "cuánto es raiz cuadrada de 400: 20\n"
          ]
        }
      ]
    },
    {
      "cell_type": "code",
      "source": [
        "answer = float(input('cuánto es raiz cuadrada de 400: '))\n",
        "\n",
        "if abs(answer) == 20:\n",
        "  print('respuesta correcta!')\n",
        "else:\n",
        "  print('lo sentimos , esa no es la respuesta correcta! ')\n",
        "\n",
        "print('gracias por realizar el test')"
      ],
      "metadata": {
        "id": "AMOavQPwwW4V",
        "outputId": "de967f19-e277-4cc5-f4eb-d0d35f5ce5aa",
        "colab": {
          "base_uri": "https://localhost:8080/"
        }
      },
      "execution_count": null,
      "outputs": [
        {
          "output_type": "stream",
          "name": "stdout",
          "text": [
            "cuánto es raiz cuadrada de 400: -20\n",
            "respuesta correcta!\n",
            "gracias por realizar el test\n"
          ]
        }
      ]
    },
    {
      "cell_type": "code",
      "source": [
        "answer = float(input('cuánto es raiz cuadrada de 400: '))\n",
        "\n",
        "if (answer == 20) | (answer == -20) :\n",
        "  print('respuesta correcta!')\n",
        "else:\n",
        "  print('lo sentimos , esa no es la respuesta correcta! ')\n",
        "\n",
        "print('gracias por realizar el test')"
      ],
      "metadata": {
        "id": "0HPdBUm899wy",
        "outputId": "04ae9010-0930-4346-e460-690964fd0089",
        "colab": {
          "base_uri": "https://localhost:8080/"
        }
      },
      "execution_count": null,
      "outputs": [
        {
          "output_type": "stream",
          "name": "stdout",
          "text": [
            "cuánto es raiz cuadrada de 400: -20\n",
            "respuesta correcta!\n",
            "gracias por realizar el test\n"
          ]
        }
      ]
    },
    {
      "cell_type": "code",
      "source": [
        "float()\n"
      ],
      "metadata": {
        "id": "wDxm6LCFt-J_",
        "outputId": "6f10d5b0-8f75-4daf-f997-49dc92599d77",
        "colab": {
          "base_uri": "https://localhost:8080/"
        }
      },
      "execution_count": null,
      "outputs": [
        {
          "output_type": "execute_result",
          "data": {
            "text/plain": [
              "20"
            ]
          },
          "metadata": {},
          "execution_count": 4
        }
      ]
    },
    {
      "cell_type": "code",
      "source": [
        "answer == 20"
      ],
      "metadata": {
        "id": "QDQ9Vxgiu_Ym",
        "outputId": "f0ec7791-a4d7-49fb-adaf-5bb2dc09641c",
        "colab": {
          "base_uri": "https://localhost:8080/"
        }
      },
      "execution_count": null,
      "outputs": [
        {
          "output_type": "execute_result",
          "data": {
            "text/plain": [
              "True"
            ]
          },
          "metadata": {},
          "execution_count": 6
        }
      ]
    },
    {
      "cell_type": "code",
      "source": [
        "try:\n",
        "  edad = int(input('ingresa tu edad: '))\n",
        "  print('gracias por ingresar tu edad!')\n",
        "except:\n",
        "  print('Tu edad no esta correctamente ingresada, por favor intenta nuevamente')"
      ],
      "metadata": {
        "id": "Cb14IwYQE9lw",
        "outputId": "97118604-257d-4829-8633-3d3e47f4fb3f",
        "colab": {
          "base_uri": "https://localhost:8080/"
        }
      },
      "execution_count": null,
      "outputs": [
        {
          "output_type": "stream",
          "name": "stdout",
          "text": [
            "ingresa tu edad: 81.5\n",
            "Tu edad no esta correctamente ingresada, por favor intenta nuevamente\n"
          ]
        }
      ]
    },
    {
      "cell_type": "code",
      "source": [
        "# ó :  | , or\n",
        "# y : & , an\n",
        "True | True"
      ],
      "metadata": {
        "id": "yI6kY6rxyW9V",
        "outputId": "b8a9f7ee-61e6-4339-81d7-ebeccfa967f3",
        "colab": {
          "base_uri": "https://localhost:8080/"
        }
      },
      "execution_count": null,
      "outputs": [
        {
          "output_type": "execute_result",
          "data": {
            "text/plain": [
              "True"
            ]
          },
          "metadata": {},
          "execution_count": 14
        }
      ]
    },
    {
      "cell_type": "code",
      "source": [
        "False | False"
      ],
      "metadata": {
        "id": "6TYfbA1lzv0N",
        "outputId": "9b7495a0-4e8e-44ee-8508-439eec04c19e",
        "colab": {
          "base_uri": "https://localhost:8080/"
        }
      },
      "execution_count": null,
      "outputs": [
        {
          "output_type": "execute_result",
          "data": {
            "text/plain": [
              "False"
            ]
          },
          "metadata": {},
          "execution_count": 15
        }
      ]
    },
    {
      "cell_type": "code",
      "source": [
        "#Par pasar de Año un estudiante debe aprobar al menos un curso de mat o lenguaje\n",
        "#una nota aprobada es aquella superior a 14. Desarrolle un programa en el cual se reciba\n",
        "#como input la nota del estudiantes en ambos cursos y la respuesta del programa de ser si se\n",
        "#aprobó o no el año\n",
        "\n",
        "Nota_Mat = float(input('Ingrese nota del curso de Matemáticas: '))\n",
        "Nota_Leng = float(input('Ingrese nota del curso de Lenguaje: '))\n",
        "\n",
        "if (Nota_Mat > 14) | (Nota_Leng > 14):\n",
        "  print('felicidades, aprobó el curso')\n",
        "\n",
        "else:\n",
        "  print('lo sentimos , usted a desaprobado el curso')"
      ],
      "metadata": {
        "id": "GV2GBOkWzzDf",
        "outputId": "5314c54d-fdf0-4098-cbe8-f01f1da2732f",
        "colab": {
          "base_uri": "https://localhost:8080/"
        }
      },
      "execution_count": null,
      "outputs": [
        {
          "output_type": "stream",
          "name": "stdout",
          "text": [
            "Ingrese nota del curso de Matemáticas: 10\n",
            "Ingrese nota del curso de Lenguaje: 10\n",
            "lo sentimos , usted a desaprobado el curso\n"
          ]
        }
      ]
    },
    {
      "cell_type": "code",
      "source": [
        "True & False"
      ],
      "metadata": {
        "id": "32J8BMGD4US7",
        "outputId": "8178b96b-ca25-4d45-a6b7-39518a738a6d",
        "colab": {
          "base_uri": "https://localhost:8080/"
        }
      },
      "execution_count": null,
      "outputs": [
        {
          "output_type": "execute_result",
          "data": {
            "text/plain": [
              "False"
            ]
          },
          "metadata": {},
          "execution_count": 29
        }
      ]
    },
    {
      "cell_type": "code",
      "source": [
        "True & True"
      ],
      "metadata": {
        "id": "SF0ANuGC4Zgz",
        "outputId": "3be80701-1ef4-4cfa-e207-82a10e34cb83",
        "colab": {
          "base_uri": "https://localhost:8080/"
        }
      },
      "execution_count": null,
      "outputs": [
        {
          "output_type": "execute_result",
          "data": {
            "text/plain": [
              "True"
            ]
          },
          "metadata": {},
          "execution_count": 30
        }
      ]
    },
    {
      "cell_type": "code",
      "source": [
        "False & False"
      ],
      "metadata": {
        "id": "lkqpknVm4ctL",
        "outputId": "941cf4a3-0b20-49d2-bc9c-ed4c64c96dcb",
        "colab": {
          "base_uri": "https://localhost:8080/"
        }
      },
      "execution_count": null,
      "outputs": [
        {
          "output_type": "execute_result",
          "data": {
            "text/plain": [
              "False"
            ]
          },
          "metadata": {},
          "execution_count": 31
        }
      ]
    },
    {
      "cell_type": "code",
      "source": [
        "#VERDADEROOOO AND Y &\n",
        "Nota_Mat = float(input('Ingrese nota del curso de Matemáticas: '))\n",
        "Nota_Leng = float(input('Ingrese nota del curso de Lenguaje: '))\n",
        "Asist = float(input('Ingrese el % de asistencia: '))\n",
        "if ((Nota_Mat > 14) | (Nota_Leng > 14)) & (Asist > 80):\n",
        "  print('felicidades, aprobó el curso')\n",
        "\n",
        "else:\n",
        "  print('lo sentimos , usted a desaprobado el curso')"
      ],
      "metadata": {
        "id": "hbGollne463t",
        "outputId": "f49c0514-f587-4efa-c30f-ec954464eb1a",
        "colab": {
          "base_uri": "https://localhost:8080/"
        }
      },
      "execution_count": null,
      "outputs": [
        {
          "output_type": "stream",
          "name": "stdout",
          "text": [
            "Ingrese nota del curso de Matemáticas: 15\n",
            "Ingrese nota del curso de Lenguaje: 18\n",
            "Ingrese el % de asistencia: 10\n",
            "lo sentimos , usted a desaprobado el curso\n"
          ]
        }
      ]
    },
    {
      "cell_type": "code",
      "source": [
        "answer = 17\n",
        "\n",
        "if answer != 42:\n",
        "  print(\"Respuesta incorrecta, intenta nuevamente!\")"
      ],
      "metadata": {
        "id": "cuh3qVzEp14h"
      },
      "execution_count": null,
      "outputs": []
    },
    {
      "cell_type": "code",
      "source": [
        "answer = int(input('Ingrese su respuesta: '))\n",
        "\n",
        "if answer != 42:\n",
        "  print(\"Respuesta incorrecta, intenta nuevamente!\")"
      ],
      "metadata": {
        "id": "Q8P2FyvworiB"
      },
      "execution_count": null,
      "outputs": []
    },
    {
      "cell_type": "code",
      "source": [
        "age = 19\n",
        "age < 21"
      ],
      "metadata": {
        "id": "BSGJ9oNEqCOj"
      },
      "execution_count": null,
      "outputs": []
    },
    {
      "cell_type": "code",
      "source": [
        "age <= 21"
      ],
      "metadata": {
        "id": "wf3dMEHIqGh-"
      },
      "execution_count": null,
      "outputs": []
    },
    {
      "cell_type": "code",
      "source": [
        "age > 21"
      ],
      "metadata": {
        "id": "ALtGWaW_qIEG"
      },
      "execution_count": null,
      "outputs": []
    },
    {
      "cell_type": "code",
      "source": [
        "age >= 21"
      ],
      "metadata": {
        "id": "U-sv2_SKqJ3T"
      },
      "execution_count": null,
      "outputs": []
    },
    {
      "cell_type": "markdown",
      "source": [
        "### Condicionales múltiples"
      ],
      "metadata": {
        "id": "Ul7K_VXA69Hg"
      }
    },
    {
      "cell_type": "code",
      "source": [
        "age_0 = 22\n",
        "age_1 = 18\n",
        "age_0 >= 21 and age_1 >= 21"
      ],
      "metadata": {
        "id": "fPhw2J5U7Fgs"
      },
      "execution_count": null,
      "outputs": []
    },
    {
      "cell_type": "code",
      "source": [
        "age_1 = 22\n",
        "age_0 >= 21 and age_1 >= 21"
      ],
      "metadata": {
        "id": "vxSjikcs7zkf"
      },
      "execution_count": null,
      "outputs": []
    },
    {
      "cell_type": "code",
      "source": [
        "(age_0 >= 21) and (age_1 >= 21)"
      ],
      "metadata": {
        "id": "4sdZ7nWN75LC",
        "outputId": "0904cbf9-233d-462e-d097-729c2a3e54c6",
        "colab": {
          "base_uri": "https://localhost:8080/",
          "height": 141
        }
      },
      "execution_count": null,
      "outputs": [
        {
          "output_type": "error",
          "ename": "NameError",
          "evalue": "name 'age_0' is not defined",
          "traceback": [
            "\u001b[0;31m---------------------------------------------------------------------------\u001b[0m",
            "\u001b[0;31mNameError\u001b[0m                                 Traceback (most recent call last)",
            "\u001b[0;32m<ipython-input-82-09b79b48214e>\u001b[0m in \u001b[0;36m<cell line: 1>\u001b[0;34m()\u001b[0m\n\u001b[0;32m----> 1\u001b[0;31m \u001b[0;34m(\u001b[0m\u001b[0mage_0\u001b[0m \u001b[0;34m>=\u001b[0m \u001b[0;36m21\u001b[0m\u001b[0;34m)\u001b[0m \u001b[0;32mand\u001b[0m \u001b[0;34m(\u001b[0m\u001b[0mage_1\u001b[0m \u001b[0;34m>=\u001b[0m \u001b[0;36m21\u001b[0m\u001b[0;34m)\u001b[0m\u001b[0;34m\u001b[0m\u001b[0;34m\u001b[0m\u001b[0m\n\u001b[0m",
            "\u001b[0;31mNameError\u001b[0m: name 'age_0' is not defined"
          ]
        }
      ]
    },
    {
      "cell_type": "code",
      "source": [
        "age_0 = 22\n",
        "age_1 = 18\n",
        "age_0 >= 21 or age_1 >= 21"
      ],
      "metadata": {
        "id": "I_gV0j1n8NJA"
      },
      "execution_count": null,
      "outputs": []
    },
    {
      "cell_type": "code",
      "source": [
        "age_0 = 18\n",
        "age_0 >= 21 or age_1 >= 21"
      ],
      "metadata": {
        "id": "OutmfEzZ-9jQ"
      },
      "execution_count": null,
      "outputs": []
    },
    {
      "cell_type": "markdown",
      "source": [
        "### Comprobar si un valor está en una lista"
      ],
      "metadata": {
        "id": "DAVP6_vn_Gn2"
      }
    },
    {
      "cell_type": "code",
      "source": [
        "my_list = ['Aaron', 'Edwin', 'Brandon', 'Carlos']\n",
        "\n",
        "'John' in my_list\n",
        "\n"
      ],
      "metadata": {
        "id": "G4fE0fgxfXZ7",
        "outputId": "ab326ec3-583b-4c4c-e723-e9c1ffc7c1b9",
        "colab": {
          "base_uri": "https://localhost:8080/"
        }
      },
      "execution_count": null,
      "outputs": [
        {
          "output_type": "execute_result",
          "data": {
            "text/plain": [
              "False"
            ]
          },
          "metadata": {},
          "execution_count": 26
        }
      ]
    },
    {
      "cell_type": "code",
      "source": [
        "lenguages = ['R', 'Python', 'C']\n",
        "lenguages"
      ],
      "metadata": {
        "id": "BqPNTASrqwr9"
      },
      "execution_count": null,
      "outputs": []
    },
    {
      "cell_type": "code",
      "source": [
        "lenguages = ['R', 'Python', 'C']\n",
        "'Python' in lenguages"
      ],
      "metadata": {
        "id": "Hd3CcNr6_LRi"
      },
      "execution_count": null,
      "outputs": []
    },
    {
      "cell_type": "code",
      "source": [
        "'Java' in lenguages"
      ],
      "metadata": {
        "id": "gi6lorHh_PXp"
      },
      "execution_count": null,
      "outputs": []
    },
    {
      "cell_type": "markdown",
      "source": [
        "### Comprobar si un valor no está en una lista"
      ],
      "metadata": {
        "id": "izmw4aHktdm_"
      }
    },
    {
      "cell_type": "code",
      "source": [
        "banned_users = ['andrew', 'carolina', 'david']\n",
        "user = 'marie'\n",
        "\n",
        "if user not in banned_users:\n",
        "  print(f\"{user.title()}, no se encuentra en la lista de no deseados.\")"
      ],
      "metadata": {
        "id": "j46TpHdStrRZ"
      },
      "execution_count": null,
      "outputs": []
    },
    {
      "cell_type": "code",
      "source": [
        "banned_users = ['andrew', 'carolina', 'david']\n",
        "user = str(input('Escriba su primer nombre '))\n",
        "\n",
        "if user not in banned_users:\n",
        "  print(f\"{user.title()}, no se encuentra en la lista de no deseados.\")"
      ],
      "metadata": {
        "id": "QdQVnRaurOSY"
      },
      "execution_count": null,
      "outputs": []
    },
    {
      "cell_type": "code",
      "source": [
        "a = int(input('escribe un número: '))"
      ],
      "metadata": {
        "id": "M8odBorDrs_P"
      },
      "execution_count": null,
      "outputs": []
    },
    {
      "cell_type": "code",
      "source": [
        "a"
      ],
      "metadata": {
        "id": "NkGEwRFJsLf_"
      },
      "execution_count": null,
      "outputs": []
    },
    {
      "cell_type": "markdown",
      "source": [
        "### Condicionales"
      ],
      "metadata": {
        "id": "VuE2syKZt2yQ"
      }
    },
    {
      "cell_type": "code",
      "source": [
        "game_active = True\n",
        "can_edit = False"
      ],
      "metadata": {
        "id": "rQUWREUEt16h"
      },
      "execution_count": null,
      "outputs": []
    },
    {
      "cell_type": "code",
      "source": [
        "car = 'subaru'\n",
        "print(\"Is car == 'subaru'? I predict True.\")\n",
        "print(car == 'subaru')\n",
        "\n",
        "print(\"\\nIs car == 'audi'? I predict False.\")\n",
        "print(car == 'audi')"
      ],
      "metadata": {
        "id": "SBZqQdhluO0S"
      },
      "execution_count": null,
      "outputs": []
    },
    {
      "cell_type": "markdown",
      "source": [
        "### Sentencias simples con IF"
      ],
      "metadata": {
        "id": "Ytw_L2R5mQlw"
      }
    },
    {
      "cell_type": "code",
      "source": [
        "age = 19\n",
        "if age >= 18:\n",
        "  print(\"Ya tienes edad suficiente para votar!\")"
      ],
      "metadata": {
        "id": "Ju_Xf1CqvTYk"
      },
      "execution_count": null,
      "outputs": []
    },
    {
      "cell_type": "code",
      "source": [
        "age = 19\n",
        "if age >= 18:\n",
        "  print(\"Ya tienes edad suficiente para votar!\")\n",
        "  print(\"Todavía no te has registrado?\")"
      ],
      "metadata": {
        "id": "adkHe7g5vj0R"
      },
      "execution_count": null,
      "outputs": []
    },
    {
      "cell_type": "markdown",
      "source": [
        "### Sentencias else-IF"
      ],
      "metadata": {
        "id": "V3FACa5Mv5vv"
      }
    },
    {
      "cell_type": "code",
      "source": [
        "age = 17\n",
        "if age >= 18:\n",
        "  print(\"Ya tienes edad suficiente para votar!\")\n",
        "  print(\"Todavía no te has registrado?\")\n",
        "else:\n",
        "  print(\"Lo sentimos, eres muy joven para votar!\")\n",
        "  print(\"Por favor registrate cuando cumplas 18!\")"
      ],
      "metadata": {
        "id": "_TU6P_Ehv5Pe"
      },
      "execution_count": null,
      "outputs": []
    },
    {
      "cell_type": "code",
      "source": [
        "nota = 18\n",
        "\n",
        "if nota > 18:\n",
        "  print(\"Extraordinario! eres un alumno destacado en el curso de programación\")\n",
        "elif   (nota > 14) & (nota <=18):\n",
        "  print(\"Felicidades, aprobaste el curso\")\n",
        "else:\n",
        "  print('lamentablemente no haz aprobrado')"
      ],
      "metadata": {
        "id": "KSEUcYzqHwCw",
        "outputId": "ec1b1e62-bf5d-4a28-9f57-5878e20e46f2",
        "colab": {
          "base_uri": "https://localhost:8080/"
        }
      },
      "execution_count": null,
      "outputs": [
        {
          "output_type": "stream",
          "name": "stdout",
          "text": [
            "Felicidades, aprobaste el curso\n"
          ]
        }
      ]
    },
    {
      "cell_type": "code",
      "source": [
        "age = 12\n",
        "\n",
        "if age < 4:\n",
        "  print(\"Your admission cost is $0.\")\n",
        "elif age < 18:\n",
        "  print(\"Your admission cost is $25.\")\n",
        "else:\n",
        "  print(\"Your admission cost is $40.\")"
      ],
      "metadata": {
        "id": "_iVAhpxgwDeI",
        "outputId": "51696c42-4684-445a-d66e-e813b452769e",
        "colab": {
          "base_uri": "https://localhost:8080/"
        }
      },
      "execution_count": null,
      "outputs": [
        {
          "output_type": "stream",
          "name": "stdout",
          "text": [
            "Your admission cost is $25.\n"
          ]
        }
      ]
    },
    {
      "cell_type": "code",
      "source": [
        "age = 12\n",
        "\n",
        "if age < 4:\n",
        "  price = 0\n",
        "elif age < 18:\n",
        "  price = 25\n",
        "else:\n",
        "  price = 40\n",
        "\n",
        "print(f\"Your admission cost is ${price}.\")\n"
      ],
      "metadata": {
        "id": "3t0oLWYh8nvN"
      },
      "execution_count": null,
      "outputs": []
    },
    {
      "cell_type": "markdown",
      "source": [
        "### Múltiples bloques"
      ],
      "metadata": {
        "id": "J4M0xWQD85AW"
      }
    },
    {
      "cell_type": "code",
      "source": [
        "age = 12\n",
        "\n",
        "if age < 4:\n",
        "  price = 0\n",
        "elif age < 18:\n",
        "  price = 25\n",
        "elif age < 65:\n",
        "  price = 40\n",
        "else:\n",
        "  price = 20\n",
        "\n",
        "print(f\"Your admission cost is ${price}.\")"
      ],
      "metadata": {
        "id": "i8L7x2LEvz4Y"
      },
      "execution_count": null,
      "outputs": []
    },
    {
      "cell_type": "markdown",
      "source": [
        "### Ignorando el bloque else"
      ],
      "metadata": {
        "id": "JsTUAkF89QmD"
      }
    },
    {
      "cell_type": "code",
      "source": [
        "age = 12\n",
        "\n",
        "if age < 4:\n",
        "  price = 0\n",
        "elif age < 18:\n",
        "  price = 25\n",
        "elif age < 65:\n",
        "  price = 40\n",
        "elif age >= 65:\n",
        "  price = 20\n",
        "\n",
        "print(f\"Your admission cost is ${price}.\")\n"
      ],
      "metadata": {
        "id": "_nimoq4F9XHY"
      },
      "execution_count": null,
      "outputs": []
    },
    {
      "cell_type": "markdown",
      "source": [
        "### Probando múltiples condiciones"
      ],
      "metadata": {
        "id": "_8dO4jjn-Ga_"
      }
    },
    {
      "cell_type": "code",
      "source": [
        "requested_toppings = ['mushrooms', 'extra cheese']\n",
        "\n",
        "if 'mushrooms' in requested_toppings:\n",
        "  print(\"Adding mushrooms.\")\n",
        "if 'pepperoni' in requested_toppings:\n",
        "  print(\"Adding pepperoni.\")\n",
        "if 'extra cheese' in requested_toppings:\n",
        "  print(\"Adding extra cheese.\")\n",
        "\n",
        "print(\"\\nFinished making your pizza!\")"
      ],
      "metadata": {
        "id": "WVSk663p9qhJ"
      },
      "execution_count": null,
      "outputs": []
    },
    {
      "cell_type": "code",
      "execution_count": null,
      "metadata": {
        "id": "gfZbhzLN7ptc"
      },
      "outputs": [],
      "source": [
        "num1 = float(input('Ingrese el primer número: '))\n",
        "num2 = float(input('Ingrese el segundo número: '))\n",
        "\n",
        "if num1 > num2:\n",
        "  print('num1 es mayor')\n",
        "else:\n",
        "  print('num2 es mayor')"
      ]
    },
    {
      "cell_type": "markdown",
      "source": [
        "<b> Ejercicio 1</b>\n",
        "\n",
        "Imagina que un extraterrestre acaba de ser derribado en un juego. Cree una variable llamada alien_color y asígnele un valor de 'verde', 'amarillo' o 'rojo'.\n",
        "\n",
        "Escribe una declaración if para probar si el color del extraterrestre es verde. Si es así, imprime un mensaje de que el jugador acaba de ganar 5 puntos."
      ],
      "metadata": {
        "id": "Y-WZOmge-ddV"
      }
    },
    {
      "cell_type": "code",
      "source": [
        "alien_color = input('Ingrese el color del alien (verde/amarillo/rojo): ')\n",
        "\n",
        "if alien_color == 'verde' :\n",
        "    print('El jugador ha ganado 5 puntos')\n"
      ],
      "metadata": {
        "id": "tgMkWabUMIjn",
        "outputId": "fcd6216f-a372-4118-8565-cad3ee545d4d",
        "colab": {
          "base_uri": "https://localhost:8080/"
        }
      },
      "execution_count": null,
      "outputs": [
        {
          "output_type": "stream",
          "name": "stdout",
          "text": [
            "Ingrese el color del alien (verde/amarillo/rojo): verde\n",
            "El jugador ha ganado 5 puntos\n"
          ]
        }
      ]
    },
    {
      "cell_type": "markdown",
      "source": [
        "<b> Ejercicio 2</b>\n",
        "\n",
        "Elija un color para un extraterrestre como lo hizo en el Ejercicio anterior y escriba una cadena if-else.\n",
        "\n",
        "Si el alienígena es verde, imprime un mensaje de que el jugador obtuvo 5 puntos.\n",
        "Si el alienígena es amarillo, imprime un mensaje de que el jugador obtuvo 10 puntos.\n",
        "Si el alienígena es rojo, imprime un mensaje de que el jugador obtuvo 15 puntos."
      ],
      "metadata": {
        "id": "fe2t6tUu-_sX"
      }
    },
    {
      "cell_type": "code",
      "source": [
        "alien_color = input('Ingrese el color del alien (verde/amarillo/rojo): ')\n",
        "\n",
        "if alien_color == 'verde' :\n",
        "    print('El jugador ha ganado 5 puntos')\n",
        "elif alien_color == 'amarillo':\n",
        "  print('El jugador obtuvo 10 puntos')\n",
        "elif alien_color == 'rojo':\n",
        "  print('El jugador obuvo 15 puntos')\n",
        "else:\n",
        "  print('Color mal escrito, ingrese de nuevo')"
      ],
      "metadata": {
        "id": "NzB62golMCfO",
        "outputId": "b174d08b-4a35-4cea-afd8-10ba923ac943",
        "colab": {
          "base_uri": "https://localhost:8080/"
        }
      },
      "execution_count": null,
      "outputs": [
        {
          "output_type": "stream",
          "name": "stdout",
          "text": [
            "Ingrese el color del alien (verde/amarillo/rojo): rojo\n",
            "El jugador obuvo 15 puntos\n"
          ]
        }
      ]
    },
    {
      "cell_type": "markdown",
      "source": [
        "<b>Ejercicio</b>\n",
        "\n",
        "Pregunte al usuario su edad, si esta es mayor igual a 18 años, imprima un mensaje que indique que puede votar, si la presona es menor que 18 años ,imprima un mensaje de que aun no cumple mayoría de edad, finalmente si la persona supera los 65 años, imprima un mensaje de que supera el umbral de edad para votar.\n",
        "\n",
        "Extra: A las personas que sean aptas para votar preguntele su candidato y guadelo en una lista la cual se imprimirá el finalizar el programa.\n"
      ],
      "metadata": {
        "id": "fPE1Lw9FgUJX"
      }
    },
    {
      "cell_type": "code",
      "source": [
        "edad_usuario = int(input('Ingrese su edad: '))\n",
        "\n",
        "if (edad_usuario >= 18) & (edad_usuario < 65):\n",
        "    voto = input('Ingrese el nombre de su candidato: ')\n",
        "    print(f'Estimado votante, usted eligió al candidato {voto} ')\n",
        "elif edad_usuario < 18:\n",
        "    print('No cumple con la mayoria de edad, usted no puede votar')\n",
        "else:\n",
        "    print('Usted suepera elumbral de edad para votar')"
      ],
      "metadata": {
        "id": "yIQ-YbnZgT3E",
        "outputId": "2c5c50d8-e2b4-4321-be7e-7de4b2a230c6",
        "colab": {
          "base_uri": "https://localhost:8080/"
        }
      },
      "execution_count": null,
      "outputs": [
        {
          "output_type": "stream",
          "name": "stdout",
          "text": [
            "Ingrese su edad: 25\n",
            "Ingrese el nombre de su candidato: Vladimir Anderson Samame Romero\n",
            "Estimado votante, usted eligió al candidato Vladimir Anderson Samame Romero \n"
          ]
        }
      ]
    },
    {
      "cell_type": "markdown",
      "source": [
        "# Sentencias While"
      ],
      "metadata": {
        "id": "tQ7O2WPW_uWn"
      }
    },
    {
      "cell_type": "code",
      "source": [
        "# i = i + 1 ES IGUAL QUE PONER i += 1\n",
        "# i  in range (0, 10) ES IGUAL QUE i < 10\n",
        "i = 0\n",
        "while i < 10:\n",
        "  print(i)\n",
        "  i = i + 0.5"
      ],
      "metadata": {
        "id": "Mcnj4PwG603e",
        "outputId": "7b7687fc-e0fd-4d73-e5bd-d87aa4c887d5",
        "colab": {
          "base_uri": "https://localhost:8080/"
        }
      },
      "execution_count": null,
      "outputs": [
        {
          "output_type": "stream",
          "name": "stdout",
          "text": [
            "0\n",
            "0.5\n",
            "1.0\n",
            "1.5\n",
            "2.0\n",
            "2.5\n",
            "3.0\n",
            "3.5\n",
            "4.0\n",
            "4.5\n",
            "5.0\n",
            "5.5\n",
            "6.0\n",
            "6.5\n",
            "7.0\n",
            "7.5\n",
            "8.0\n",
            "8.5\n",
            "9.0\n",
            "9.5\n"
          ]
        }
      ]
    },
    {
      "cell_type": "code",
      "source": [
        "i"
      ],
      "metadata": {
        "id": "lGybFb648W-v",
        "outputId": "18f574ff-1d52-4685-8c99-8e6c50bd34c2",
        "colab": {
          "base_uri": "https://localhost:8080/"
        }
      },
      "execution_count": null,
      "outputs": [
        {
          "output_type": "execute_result",
          "data": {
            "text/plain": [
              "10.0"
            ]
          },
          "metadata": {},
          "execution_count": 11
        }
      ]
    },
    {
      "cell_type": "markdown",
      "source": [
        "**EJERCICIO**\n",
        "IMPRIMA TODOS LOS NUMEROS MULTIPLOS DE 7, MENORES QUE 100 USANDO WHILE\n",
        "\n",
        "```\n",
        "# This is formatted as code\n",
        "```\n",
        "\n"
      ],
      "metadata": {
        "id": "wxDf1Q9S9e13"
      }
    },
    {
      "cell_type": "code",
      "source": [
        "a = 0\n",
        "while a < 100:\n",
        "  if a % 7 == 0:\n",
        "    print(a)\n",
        "  a = a + 1\n",
        "\n"
      ],
      "metadata": {
        "id": "iQIZBeZs9aMw",
        "outputId": "18eb322d-bd72-45f5-b365-1fff0ffe9e00",
        "colab": {
          "base_uri": "https://localhost:8080/"
        }
      },
      "execution_count": null,
      "outputs": [
        {
          "output_type": "stream",
          "name": "stdout",
          "text": [
            "0\n",
            "7\n",
            "14\n",
            "21\n",
            "28\n",
            "35\n",
            "42\n",
            "49\n",
            "56\n",
            "63\n",
            "70\n",
            "77\n",
            "84\n",
            "91\n",
            "98\n"
          ]
        }
      ]
    },
    {
      "cell_type": "code",
      "source": [
        "b = 0\n",
        "while b*7 < 100:\n",
        "  print(b*7)\n",
        "  b +=1"
      ],
      "metadata": {
        "id": "ZR0TJMO1-fZe",
        "outputId": "e8883ff8-1bf5-4d34-d40d-9fee2e2a7119",
        "colab": {
          "base_uri": "https://localhost:8080/"
        }
      },
      "execution_count": null,
      "outputs": [
        {
          "output_type": "stream",
          "name": "stdout",
          "text": [
            "0\n",
            "7\n",
            "14\n",
            "21\n",
            "28\n",
            "35\n",
            "42\n",
            "49\n",
            "56\n",
            "63\n",
            "70\n",
            "77\n",
            "84\n",
            "91\n",
            "98\n"
          ]
        }
      ]
    },
    {
      "cell_type": "code",
      "source": [
        "import time"
      ],
      "metadata": {
        "id": "YK9NSLSUAF2G"
      },
      "execution_count": null,
      "outputs": []
    },
    {
      "cell_type": "code",
      "source": [
        "c = time.time()"
      ],
      "metadata": {
        "id": "hFkJqv2sAIGe"
      },
      "execution_count": null,
      "outputs": []
    },
    {
      "cell_type": "code",
      "source": [
        "c2 = time.time()"
      ],
      "metadata": {
        "id": "ff3GDW5KAaen"
      },
      "execution_count": null,
      "outputs": []
    },
    {
      "cell_type": "code",
      "source": [
        "c2 - c"
      ],
      "metadata": {
        "id": "cR4YWouLAdPt",
        "outputId": "1aa78de7-5e2c-4ac6-9b81-5c7cae3bd2e1",
        "colab": {
          "base_uri": "https://localhost:8080/"
        }
      },
      "execution_count": null,
      "outputs": [
        {
          "output_type": "execute_result",
          "data": {
            "text/plain": [
              "68.38160562515259"
            ]
          },
          "metadata": {},
          "execution_count": 25
        }
      ]
    },
    {
      "cell_type": "code",
      "source": [
        "start = time.time()\n",
        "b = 0\n",
        "while b*7 < 100_000_000:\n",
        "  #print(b*7)\n",
        "  b +=1\n",
        "\n",
        "elapsed = time.time() - start\n",
        "print(f'Process elapsed {elapsed} seconds')"
      ],
      "metadata": {
        "id": "SUCMJ2ItAvlA",
        "outputId": "5c11c5ba-f992-4d3f-95a9-4c20b0559145",
        "colab": {
          "base_uri": "https://localhost:8080/"
        }
      },
      "execution_count": null,
      "outputs": [
        {
          "output_type": "stream",
          "name": "stdout",
          "text": [
            "Process elapsed 2.1705503463745117 seconds\n"
          ]
        }
      ]
    },
    {
      "cell_type": "code",
      "source": [
        "start = time.time()\n",
        "a = 0\n",
        "while a < 100_000_000:\n",
        "  if a % 7 == 0:\n",
        "    1\n",
        "    #print(a)\n",
        "  a = a + 1\n",
        "\n",
        "elapsed = time.time() - start\n",
        "print(f'Process elapsed {elapsed} seconds')"
      ],
      "metadata": {
        "id": "9d8VYDkuB-0d",
        "outputId": "a8b2acab-5459-4457-cb2c-cceb2949091e",
        "colab": {
          "base_uri": "https://localhost:8080/"
        }
      },
      "execution_count": null,
      "outputs": [
        {
          "output_type": "stream",
          "name": "stdout",
          "text": [
            "Process elapsed 18.4044029712677 seconds\n"
          ]
        }
      ]
    },
    {
      "cell_type": "code",
      "source": [
        "%%time\n",
        "a = 0\n",
        "while a < 100_000_000:\n",
        "  if a % 7 == 0:\n",
        "    1\n",
        "    #print(a)\n",
        "  a = a + 1"
      ],
      "metadata": {
        "id": "qrQVetaXNAXL",
        "outputId": "54da3541-9fd6-410f-ff68-3d3b59aea9ca",
        "colab": {
          "base_uri": "https://localhost:8080/"
        }
      },
      "execution_count": null,
      "outputs": [
        {
          "output_type": "stream",
          "name": "stdout",
          "text": [
            "CPU times: user 19 s, sys: 29.6 ms, total: 19 s\n",
            "Wall time: 19.2 s\n"
          ]
        }
      ]
    },
    {
      "cell_type": "code",
      "source": [
        "current_number = 1\n",
        "while current_number <= 5:\n",
        "    print(current_number)\n",
        "    current_number += 1"
      ],
      "metadata": {
        "id": "FGmYSyUY9P1a",
        "outputId": "b465b898-1c9f-4e2a-f541-169199530d20",
        "colab": {
          "base_uri": "https://localhost:8080/"
        }
      },
      "execution_count": null,
      "outputs": [
        {
          "output_type": "stream",
          "name": "stdout",
          "text": [
            "1\n",
            "2\n",
            "3\n",
            "4\n",
            "5\n"
          ]
        }
      ]
    },
    {
      "cell_type": "code",
      "source": [
        "prompt = \"\\nDime algo y lo repetire:\"\n",
        "prompt += \"\\nEscribe 'salir' para finalizar. \"\n",
        "\n",
        "message = \"\"\n",
        "while message != 'salir':\n",
        "  message = input(prompt)\n",
        "  print(message)"
      ],
      "metadata": {
        "id": "cdDL7YMjCSIf",
        "outputId": "1515226d-774d-4fe2-8295-d33a4262e065",
        "colab": {
          "base_uri": "https://localhost:8080/"
        }
      },
      "execution_count": null,
      "outputs": [
        {
          "output_type": "stream",
          "name": "stdout",
          "text": [
            "\n",
            "Dime algo y lo repetire:\n",
            "Escribe 'salir' para finalizar. salir\n",
            "salir\n"
          ]
        }
      ]
    },
    {
      "cell_type": "markdown",
      "source": [
        "### Usado una constante"
      ],
      "metadata": {
        "id": "2csEiLu2DJUI"
      }
    },
    {
      "cell_type": "code",
      "source": [
        "active = True\n",
        "while active:\n",
        "  message = input(prompt)\n",
        "\n",
        "  if message.lower() == 'salir':\n",
        "    active = False\n",
        "  else:\n",
        "    print(message)"
      ],
      "metadata": {
        "id": "Sv-Imj4XNrsJ",
        "outputId": "3b73e1c8-c928-47e4-8254-160edd2df9dd",
        "colab": {
          "base_uri": "https://localhost:8080/"
        }
      },
      "execution_count": null,
      "outputs": [
        {
          "name": "stdout",
          "output_type": "stream",
          "text": [
            "\n",
            "Dime algo y lo repetire:\n",
            "Escribe 'salir' para finalizar. salir\n"
          ]
        }
      ]
    },
    {
      "cell_type": "code",
      "source": [],
      "metadata": {
        "id": "L65rCB6TOTQM"
      },
      "execution_count": null,
      "outputs": []
    },
    {
      "cell_type": "markdown",
      "source": [
        "**Ejercicio**\n",
        "desarrolle un progrma que calcule si un número es un múltiplo de 7 y que imprima un mensaje de confiramcion o ccaso contrario indique el residuo. Este programa debe permanecer activo hasta que el usuario decidad salir. fanalmente al finalizar el programa indique al usuario el tiempo que permaneció activo."
      ],
      "metadata": {
        "id": "u3I1C2h9OigF"
      }
    },
    {
      "cell_type": "code",
      "source": [
        "%%time\n",
        "enunciado = \"\\nEscriba un número entero\"\n",
        "enunciado += \"\\nEscribe 'salir' para finalizar. \"\n",
        "message =''\n",
        "numero = True\n",
        "while numero % 7 ==0:\n",
        "  message =  input(f'el {numero} es múltiplo de 7')\n",
        "  if message != 'salir':\n",
        "    message = input(enunciado)\n",
        "  elif message == 'salir':\n",
        "    print(message)\n"
      ],
      "metadata": {
        "id": "qq5PROPUOn62",
        "outputId": "35d07df9-8bd6-4208-84ac-8dd3c0f256a1",
        "colab": {
          "base_uri": "https://localhost:8080/"
        }
      },
      "execution_count": null,
      "outputs": [
        {
          "output_type": "stream",
          "name": "stdout",
          "text": [
            "CPU times: user 10 µs, sys: 0 ns, total: 10 µs\n",
            "Wall time: 30 µs\n"
          ]
        }
      ]
    },
    {
      "cell_type": "code",
      "source": [
        "%%time\n",
        "active = True\n",
        "while active:\n",
        "  num = input('Ingrese un número o escriba \"salir\" para terminar el programa: ')\n",
        "  if num.lower() == 'salir':\n",
        "    active = False\n",
        "  elif int(num) % 7 == 0:\n",
        "      print(f'el {num} es múltiplo de 7')\n",
        "  else:\n",
        "      print(f'el {num} no es múltipli de 7, el residuo es {int(num) % 7} ')"
      ],
      "metadata": {
        "id": "hFLrIHLmRgfa",
        "outputId": "d05bb124-f454-40d3-9656-e1dd7528bfcf",
        "colab": {
          "base_uri": "https://localhost:8080/"
        }
      },
      "execution_count": null,
      "outputs": [
        {
          "output_type": "stream",
          "name": "stdout",
          "text": [
            "Ingrese un número o escriba \"salir\" para terminar el programa: 50\n",
            "el 50 no es múltipli de 7, el residuo es 1 \n",
            "Ingrese un número o escriba \"salir\" para terminar el programa: salir\n",
            "CPU times: user 198 ms, sys: 31.8 ms, total: 230 ms\n",
            "Wall time: 11.3 s\n"
          ]
        }
      ]
    },
    {
      "cell_type": "code",
      "source": [
        "active = True\n",
        "\n",
        "while active:\n",
        "  message = input(prompt)\n",
        "\n",
        "  if message == 'salir':\n",
        "    active = False\n",
        "  else:\n",
        "    print(message)"
      ],
      "metadata": {
        "id": "8T4IvpXNDHgd",
        "outputId": "e148e261-3eb1-4cf7-a3bf-bd6204e93c01",
        "colab": {
          "base_uri": "https://localhost:8080/"
        }
      },
      "execution_count": null,
      "outputs": [
        {
          "name": "stdout",
          "output_type": "stream",
          "text": [
            "\n",
            "Dime algo y lo repetire:\n",
            "Escribe 'salir' para finalizar. 7\n",
            "7\n",
            "\n",
            "Dime algo y lo repetire:\n",
            "Escribe 'salir' para finalizar. salir\n"
          ]
        }
      ]
    },
    {
      "cell_type": "markdown",
      "source": [
        "### Break"
      ],
      "metadata": {
        "id": "n_eoK86YDid8"
      }
    },
    {
      "cell_type": "code",
      "source": [
        "%%time\n",
        "\n",
        "while True:\n",
        "  num = input('Ingrese un número o escriba salir para terminar el programa: ')\n",
        "  if num.lower() == 'salir':\n",
        "    break\n",
        "\n",
        "  try:\n",
        "    if int(num) % 7 ==0:\n",
        "      print(f'el {num} es múltiplo de 7')\n",
        "    else:\n",
        "      print(f'el {num} no es múltipli de 7, el residuo es {int(num) % 7} ')\n",
        "\n",
        "  except:\n",
        "    continue"
      ],
      "metadata": {
        "id": "5nEd1_IGVoQn",
        "outputId": "91685b44-0545-45b4-9fd0-bc9e1835867d",
        "colab": {
          "base_uri": "https://localhost:8080/"
        }
      },
      "execution_count": null,
      "outputs": [
        {
          "output_type": "stream",
          "name": "stdout",
          "text": [
            "Ingrese un número o escriba salir para terminar el programa: 71\n",
            "el 71 no es múltipli de 7, el residuo es 1 \n",
            "Ingrese un número o escriba salir para terminar el programa: hola\n",
            "Ingrese un número o escriba salir para terminar el programa: 70\n",
            "el 70 es múltiplo de 7\n",
            "Ingrese un número o escriba salir para terminar el programa: salir\n",
            "CPU times: user 375 ms, sys: 45.6 ms, total: 421 ms\n",
            "Wall time: 21.2 s\n"
          ]
        }
      ]
    },
    {
      "cell_type": "code",
      "source": [
        "\n",
        "while True:\n",
        "       city = input(prompt)\n",
        "\n",
        "       if city == 'salir':\n",
        "           break\n",
        "       else:\n",
        "           print(f\"Me encantaría ir a {city.title()}!\")"
      ],
      "metadata": {
        "id": "6Mu2Mu6EDn22",
        "outputId": "56018405-faa3-4fa1-b891-cff7e2fd9863",
        "colab": {
          "base_uri": "https://localhost:8080/"
        }
      },
      "execution_count": null,
      "outputs": [
        {
          "name": "stdout",
          "output_type": "stream",
          "text": [
            "\n",
            "Dime algo y lo repetire:\n",
            "Escribe 'salir' para finalizar. salir\n"
          ]
        }
      ]
    },
    {
      "cell_type": "code",
      "source": [
        "prompt = 'Ingrese el nombre de una ciudad o salir para terminar el programa'\n",
        "while True:\n",
        "       city = input(prompt)\n",
        "\n",
        "       if city == 'salir':\n",
        "           break\n",
        "           print('Esta es una prubea')\n",
        "       else:\n",
        "           print(f\"Me encantaría ir a {city.title()}!\")"
      ],
      "metadata": {
        "id": "P46aWk7SUADB",
        "outputId": "4fa337e6-33e6-4043-b749-fbba0b42b329",
        "colab": {
          "base_uri": "https://localhost:8080/"
        }
      },
      "execution_count": null,
      "outputs": [
        {
          "name": "stdout",
          "output_type": "stream",
          "text": [
            "Ingrese el nombre de una ciudad o salir para terminar el programahola\n",
            "Me encantaría ir a Hola!\n",
            "Ingrese el nombre de una ciudad o salir para terminar el programaarequipa\n",
            "Me encantaría ir a Arequipa!\n",
            "Ingrese el nombre de una ciudad o salir para terminar el programasalir\n"
          ]
        }
      ]
    },
    {
      "cell_type": "code",
      "source": [],
      "metadata": {
        "id": "UdLRp3beUabB"
      },
      "execution_count": null,
      "outputs": []
    },
    {
      "cell_type": "markdown",
      "source": [
        "### Continue"
      ],
      "metadata": {
        "id": "ritP2QOiD344"
      }
    },
    {
      "cell_type": "code",
      "source": [
        "current_number = 0\n",
        "\n",
        "while current_number < 10:\n",
        "  current_number += 1\n",
        "  if current_number % 2 != 0:\n",
        "    continue\n",
        "  print(current_number)"
      ],
      "metadata": {
        "id": "pXXP4aZBUurp",
        "outputId": "ddb97ae0-472a-4f46-852b-40f001fd5604",
        "colab": {
          "base_uri": "https://localhost:8080/"
        }
      },
      "execution_count": null,
      "outputs": [
        {
          "output_type": "stream",
          "name": "stdout",
          "text": [
            "2\n",
            "4\n",
            "6\n",
            "8\n",
            "10\n"
          ]
        }
      ]
    },
    {
      "cell_type": "code",
      "source": [
        "current_number = 0\n",
        "\n",
        "while current_number < 10:\n",
        "  current_number += 1\n",
        "  if current_number % 2 == 0:\n",
        "    continue\n",
        "  print(current_number)"
      ],
      "metadata": {
        "id": "yYFFKYJwD74o"
      },
      "execution_count": null,
      "outputs": []
    },
    {
      "cell_type": "markdown",
      "source": [
        "### Evitando Loops infinitos"
      ],
      "metadata": {
        "id": "YHli8JqnEsX6"
      }
    },
    {
      "cell_type": "code",
      "source": [
        "x = 1\n",
        "while x <= 5:\n",
        "    print(x)\n",
        "    x += 1"
      ],
      "metadata": {
        "id": "Eof0p3NkExEN"
      },
      "execution_count": null,
      "outputs": []
    },
    {
      "cell_type": "code",
      "source": [
        "# This loop runs forever!\n",
        "x = 1\n",
        "while x <= 5:\n",
        "    print(x)"
      ],
      "metadata": {
        "id": "QxCazgC8E1A7"
      },
      "execution_count": null,
      "outputs": []
    },
    {
      "cell_type": "markdown",
      "source": [
        "<b> Ejercicio 1</b>\n",
        "\n",
        "Escriba un ciclo que solicite al usuario que ingrese una serie de ingredientes para la pizza hasta que ingrese un valor de 'salir'. A medida que ingresen cada ingrediente, imprima un mensaje que diga que agregará ese ingrediente a su pizza."
      ],
      "metadata": {
        "id": "NzzH8uoCFAMM"
      }
    },
    {
      "cell_type": "code",
      "source": [
        "%%time\n",
        "active = True\n",
        "while active:\n",
        "  num = input('Ingrese un ingrediente para la pizza o escriba \"salir\" para terminar el programa: ')\n",
        "  if num.lower() == 'salir':\n",
        "    active = False\n",
        "  else:\n",
        "      print(f'Agregaremos {num} como ingrediente para la pizza')\n"
      ],
      "metadata": {
        "id": "L--8oHmRZKyn",
        "outputId": "7d13285c-ae57-4ff7-8ff3-59f416a6012f",
        "colab": {
          "base_uri": "https://localhost:8080/"
        }
      },
      "execution_count": null,
      "outputs": [
        {
          "output_type": "stream",
          "name": "stdout",
          "text": [
            "Ingrese un ingrediente para la pizza o escriba \"salir\" para terminar el programa: piña\n",
            "Agregaremos piña como ingrediente para la pizza\n",
            "Ingrese un ingrediente para la pizza o escriba \"salir\" para terminar el programa: salir\n",
            "CPU times: user 72.2 ms, sys: 8.77 ms, total: 81 ms\n",
            "Wall time: 3.68 s\n"
          ]
        }
      ]
    },
    {
      "cell_type": "markdown",
      "source": [
        "<b> Ejercicio 2</b>\n",
        "\n",
        "Un cine cobra diferentes precios de boletos dependiendo de la edad de una persona. Si una persona es menor de 3 años, la entrada es gratuita; si son entre 3 y 12, el boleto cuesta s/. 10; y si son mayores de 12 años, el boleto cuesta s/. 15. Escriba un ciclo en el que pregunte a los usuarios su edad y luego dígales el costo de su boleto de cine."
      ],
      "metadata": {
        "id": "ATFL1LTaFDoF"
      }
    },
    {
      "cell_type": "code",
      "source": [
        "%%time\n",
        "active = True\n",
        "while active:\n",
        "  num = input('Ingrese su edad para mostrar el costo de su entrada, e ingrese salir cuando termine su pregunta: ')\n",
        "  if num == 'salir':\n",
        "    print('Vuelva pronto')\n",
        "    break\n",
        "  if int(num) < 3:\n",
        "    print(f'El costo de tu entrada para {num} años es gratis ')\n",
        "  elif (int(num)>=3) and (int(num)<=12):\n",
        "    print(f'El costo de tu entrada para {num} años es de 10 nuevos soles ')\n",
        "  else:\n",
        "    print(f'El costo de tu entrada para {num} años es de 15 nuevos soles ')"
      ],
      "metadata": {
        "id": "2W8jD_Orcwa3",
        "outputId": "bcfd6ebb-1dcc-4824-96b6-d8cb30fce2f7",
        "colab": {
          "base_uri": "https://localhost:8080/"
        }
      },
      "execution_count": null,
      "outputs": [
        {
          "output_type": "stream",
          "name": "stdout",
          "text": [
            "Ingrese su edad para mostrar el costo de su entrada, e ingrese salir cuando termine su pregunta: 12\n",
            "El costo de tu entrada para 12 años es de 10 nuevos soles \n",
            "Ingrese su edad para mostrar el costo de su entrada, e ingrese salir cuando termine su pregunta: 5\n",
            "El costo de tu entrada para 5 años es de 10 nuevos soles \n",
            "Ingrese su edad para mostrar el costo de su entrada, e ingrese salir cuando termine su pregunta: 1\n",
            "El costo de tu entrada para 1 años es gratis \n",
            "Ingrese su edad para mostrar el costo de su entrada, e ingrese salir cuando termine su pregunta: 50\n",
            "El costo de tu entrada para 50 años es de 15 nuevos soles \n",
            "Ingrese su edad para mostrar el costo de su entrada, e ingrese salir cuando termine su pregunta: salir\n",
            "Vuelva pronto\n",
            "CPU times: user 357 ms, sys: 40.4 ms, total: 397 ms\n",
            "Wall time: 18.3 s\n"
          ]
        }
      ]
    },
    {
      "cell_type": "markdown",
      "source": [
        "###**List Comprehesion**"
      ],
      "metadata": {
        "id": "jsD34aAkXRyX"
      }
    },
    {
      "cell_type": "code",
      "source": [
        "[x for x in range(0, 10)]"
      ],
      "metadata": {
        "id": "ETmPt_M7XVs4",
        "outputId": "015c4c49-ef87-49ac-ebd2-d0910fe180c8",
        "colab": {
          "base_uri": "https://localhost:8080/"
        }
      },
      "execution_count": null,
      "outputs": [
        {
          "output_type": "execute_result",
          "data": {
            "text/plain": [
              "[0, 1, 2, 3, 4, 5, 6, 7, 8, 9]"
            ]
          },
          "metadata": {},
          "execution_count": 59
        }
      ]
    },
    {
      "cell_type": "code",
      "source": [
        "[x**2 for x in range(0, 11)]"
      ],
      "metadata": {
        "id": "1Mo_WRmOX7GI",
        "outputId": "3544193d-6789-43fc-c3b3-06d56d71474b",
        "colab": {
          "base_uri": "https://localhost:8080/"
        }
      },
      "execution_count": null,
      "outputs": [
        {
          "output_type": "execute_result",
          "data": {
            "text/plain": [
              "[0, 1, 4, 9, 16, 25, 36, 49, 64, 81, 100]"
            ]
          },
          "metadata": {},
          "execution_count": 61
        }
      ]
    },
    {
      "cell_type": "code",
      "source": [
        "[x for x in range(0, 100) if x % 7 ==0]"
      ],
      "metadata": {
        "id": "hLm7MsitYEaA",
        "outputId": "22778f99-d3f4-4e43-c778-56f84706b942",
        "colab": {
          "base_uri": "https://localhost:8080/"
        }
      },
      "execution_count": 40,
      "outputs": [
        {
          "output_type": "execute_result",
          "data": {
            "text/plain": [
              "[0, 7, 14, 21, 28, 35, 42, 49, 56, 63, 70, 77, 84, 91, 98]"
            ]
          },
          "metadata": {},
          "execution_count": 40
        }
      ]
    },
    {
      "cell_type": "code",
      "source": [
        "x"
      ],
      "metadata": {
        "id": "wlD38WfJIqIT",
        "outputId": "5b3761f7-bcd1-422e-c67e-f7b15394ecd3",
        "colab": {
          "base_uri": "https://localhost:8080/",
          "height": 141
        }
      },
      "execution_count": 41,
      "outputs": [
        {
          "output_type": "error",
          "ename": "NameError",
          "evalue": "name 'x' is not defined",
          "traceback": [
            "\u001b[0;31m---------------------------------------------------------------------------\u001b[0m",
            "\u001b[0;31mNameError\u001b[0m                                 Traceback (most recent call last)",
            "\u001b[0;32m<ipython-input-41-6fcf9dfbd479>\u001b[0m in \u001b[0;36m<cell line: 1>\u001b[0;34m()\u001b[0m\n\u001b[0;32m----> 1\u001b[0;31m \u001b[0mx\u001b[0m\u001b[0;34m\u001b[0m\u001b[0;34m\u001b[0m\u001b[0m\n\u001b[0m",
            "\u001b[0;31mNameError\u001b[0m: name 'x' is not defined"
          ]
        }
      ]
    },
    {
      "cell_type": "code",
      "source": [
        "%%time\n",
        "var = [a for a in range(0, 100 + 1) if a %7 ==0]"
      ],
      "metadata": {
        "id": "jpeFtC-JYdZ4",
        "outputId": "0414ad79-a44d-44ce-df2b-b107d0dea7a0",
        "colab": {
          "base_uri": "https://localhost:8080/"
        }
      },
      "execution_count": 45,
      "outputs": [
        {
          "output_type": "stream",
          "name": "stdout",
          "text": [
            "CPU times: user 17 µs, sys: 1 µs, total: 18 µs\n",
            "Wall time: 23.4 µs\n"
          ]
        }
      ]
    },
    {
      "cell_type": "code",
      "source": [
        "import os\n",
        "cpus_disponibles = os.cpu_count()\n",
        "print(f\"Numro de CPU disponibles : {cpus_disponibles}\")"
      ],
      "metadata": {
        "id": "wun4R4fcZzvO",
        "outputId": "fcf5b720-8dc8-49fa-a36e-373915ef993f",
        "colab": {
          "base_uri": "https://localhost:8080/"
        }
      },
      "execution_count": null,
      "outputs": [
        {
          "output_type": "stream",
          "name": "stdout",
          "text": [
            "Numro de CPU disponibles : 2\n"
          ]
        }
      ]
    },
    {
      "cell_type": "markdown",
      "source": [
        "# 3. Sentencia For"
      ],
      "metadata": {
        "id": "wGafafRIF6Bz"
      }
    },
    {
      "cell_type": "code",
      "source": [
        "magicians = ['alice', 'david', 'carolina']\n",
        "for magician in magicians:\n",
        "  print(f\"{magician.title()}, that was a great trick!\")"
      ],
      "metadata": {
        "id": "xh9IzPvpGddX",
        "outputId": "364340ba-75cf-4420-ed1b-9f0c0aedbef5",
        "colab": {
          "base_uri": "https://localhost:8080/"
        }
      },
      "execution_count": null,
      "outputs": [
        {
          "output_type": "stream",
          "name": "stdout",
          "text": [
            "Alice, that was a great trick!\n",
            "David, that was a great trick!\n",
            "Carolina, that was a great trick!\n"
          ]
        }
      ]
    },
    {
      "cell_type": "code",
      "source": [
        "magicians = ['alice', 'david', 'carolina']\n",
        "for magician in magicians:\n",
        "  print(f\"{magician.title()}, that was a great trick!\")\n",
        "  print(f\"I can't wait to see your next trick, {magician.title()}.\\n\")"
      ],
      "metadata": {
        "id": "iZaVoq2xGlt0",
        "outputId": "1b9fcc3a-39ee-4629-96fc-0156450c4ab6",
        "colab": {
          "base_uri": "https://localhost:8080/"
        }
      },
      "execution_count": null,
      "outputs": [
        {
          "output_type": "stream",
          "name": "stdout",
          "text": [
            "Alice, that was a great trick!\n",
            "I can't wait to see your next trick, Alice.\n",
            "\n",
            "David, that was a great trick!\n",
            "I can't wait to see your next trick, David.\n",
            "\n",
            "Carolina, that was a great trick!\n",
            "I can't wait to see your next trick, Carolina.\n",
            "\n"
          ]
        }
      ]
    },
    {
      "cell_type": "code",
      "source": [
        "magicians = ['alice', 'david', 'carolina']\n",
        "\n",
        "for magician in magicians:\n",
        "    print(f\"{magician.title()}, that was a great trick!\")\n",
        "    print(f\"I can't wait to see your next trick, {magician.title()}.\\n\")\n",
        "\n",
        "print(\"Thank you, everyone. That was a great magic show!\")"
      ],
      "metadata": {
        "id": "_fm04h69G6nm",
        "outputId": "1353d77b-20ff-4c34-fe9a-a28838eff7b5",
        "colab": {
          "base_uri": "https://localhost:8080/"
        }
      },
      "execution_count": null,
      "outputs": [
        {
          "output_type": "stream",
          "name": "stdout",
          "text": [
            "Alice, that was a great trick!\n",
            "I can't wait to see your next trick, Alice.\n",
            "\n",
            "David, that was a great trick!\n",
            "I can't wait to see your next trick, David.\n",
            "\n",
            "Carolina, that was a great trick!\n",
            "I can't wait to see your next trick, Carolina.\n",
            "\n",
            "Thank you, everyone. That was a great magic show!\n"
          ]
        }
      ]
    },
    {
      "cell_type": "markdown",
      "source": [
        "### Olvidando la identación"
      ],
      "metadata": {
        "id": "C1qC64EEHDM-"
      }
    },
    {
      "cell_type": "code",
      "source": [
        "magicians = ['alice', 'david', 'carolina']\n",
        "for magician in magicians:\n",
        "  print(magician)"
      ],
      "metadata": {
        "id": "eZ2wML7nHH5i",
        "outputId": "1251a1cc-f08d-4410-bc2e-2e1b57454118",
        "colab": {
          "base_uri": "https://localhost:8080/"
        }
      },
      "execution_count": null,
      "outputs": [
        {
          "output_type": "stream",
          "name": "stdout",
          "text": [
            "alice\n",
            "david\n",
            "carolina\n"
          ]
        }
      ]
    },
    {
      "cell_type": "code",
      "source": [
        "var = 'Java'\n",
        "var in ['R', 'Python', 'Spark']"
      ],
      "metadata": {
        "id": "0drInMfz51bX",
        "outputId": "515bdd37-f853-463d-8a43-5677d600266c",
        "colab": {
          "base_uri": "https://localhost:8080/"
        }
      },
      "execution_count": null,
      "outputs": [
        {
          "output_type": "execute_result",
          "data": {
            "text/plain": [
              "False"
            ]
          },
          "metadata": {},
          "execution_count": 1
        }
      ]
    },
    {
      "cell_type": "code",
      "source": [
        "var = 2\n",
        "var in range(0,9)"
      ],
      "metadata": {
        "id": "sghHEVxj6FsP",
        "outputId": "6a0097db-e9a9-45c4-e32f-b57f3dc7026f",
        "colab": {
          "base_uri": "https://localhost:8080/"
        }
      },
      "execution_count": null,
      "outputs": [
        {
          "output_type": "execute_result",
          "data": {
            "text/plain": [
              "True"
            ]
          },
          "metadata": {},
          "execution_count": 2
        }
      ]
    },
    {
      "cell_type": "code",
      "source": [
        "#Impira todos los numeros multiplos de 7 menores que 10\n",
        "#14%7\n",
        "\n",
        "for num in range(0, 100):\n",
        "  if num % 7 ==0:\n",
        "    print(f'{num} es multiplo de 7')"
      ],
      "metadata": {
        "id": "yonvAVC21K-8",
        "outputId": "b3ba6c26-4025-43c1-8f0c-74ab83489a5d",
        "colab": {
          "base_uri": "https://localhost:8080/"
        }
      },
      "execution_count": null,
      "outputs": [
        {
          "output_type": "stream",
          "name": "stdout",
          "text": [
            "0 es multiplo de 7\n",
            "7 es multiplo de 7\n",
            "14 es multiplo de 7\n",
            "21 es multiplo de 7\n",
            "28 es multiplo de 7\n",
            "35 es multiplo de 7\n",
            "42 es multiplo de 7\n",
            "49 es multiplo de 7\n",
            "56 es multiplo de 7\n",
            "63 es multiplo de 7\n",
            "70 es multiplo de 7\n",
            "77 es multiplo de 7\n",
            "84 es multiplo de 7\n",
            "91 es multiplo de 7\n",
            "98 es multiplo de 7\n"
          ]
        }
      ]
    },
    {
      "cell_type": "code",
      "source": [
        "lista = []\n",
        "\n",
        "for num in range(0, 100):\n",
        "  if num % 7 ==0:\n",
        "    lista.append(num)\n",
        "    print(f'{num} es multiplo de 7')\n",
        "\n",
        "print(lista)\n",
        "\n"
      ],
      "metadata": {
        "id": "7w07x7pn188i",
        "outputId": "0b065528-f07b-4cb2-bc3b-cbfdc9e9b285",
        "colab": {
          "base_uri": "https://localhost:8080/"
        }
      },
      "execution_count": null,
      "outputs": [
        {
          "output_type": "stream",
          "name": "stdout",
          "text": [
            "0 es multiplo de 7\n",
            "7 es multiplo de 7\n",
            "14 es multiplo de 7\n",
            "21 es multiplo de 7\n",
            "28 es multiplo de 7\n",
            "35 es multiplo de 7\n",
            "42 es multiplo de 7\n",
            "49 es multiplo de 7\n",
            "56 es multiplo de 7\n",
            "63 es multiplo de 7\n",
            "70 es multiplo de 7\n",
            "77 es multiplo de 7\n",
            "84 es multiplo de 7\n",
            "91 es multiplo de 7\n",
            "98 es multiplo de 7\n",
            "[0, 7, 14, 21, 28, 35, 42, 49, 56, 63, 70, 77, 84, 91, 98]\n"
          ]
        }
      ]
    },
    {
      "cell_type": "code",
      "source": [
        "lista2 = []\n",
        "\n",
        "n = int(input('escoja el número límite al evaluar: '))\n",
        "x = int(input('indique el múltiplo a evaluar: '))\n",
        "\n",
        "for num2 in range(0, n + 1):\n",
        "  if num2 % x == 0:\n",
        "    lista2.append(num2)\n",
        "\n",
        "\n",
        "print(lista2)"
      ],
      "metadata": {
        "id": "wCvAI81F4oj6",
        "outputId": "54216431-e36c-4f93-9ced-003fa0b45965",
        "colab": {
          "base_uri": "https://localhost:8080/"
        }
      },
      "execution_count": null,
      "outputs": [
        {
          "output_type": "stream",
          "name": "stdout",
          "text": [
            "escoja el número límite al evaluar: 200\n",
            "indique el múltiplo a evaluar: 10\n",
            "[0, 10, 20, 30, 40, 50, 60, 70, 80, 90, 100, 110, 120, 130, 140, 150, 160, 170, 180, 190, 200]\n"
          ]
        }
      ]
    },
    {
      "cell_type": "markdown",
      "source": [
        "<b> Ejercicio 1</b>\n",
        "\n",
        "\n",
        "Piensa en al menos tres tipos de tu pizza favorita. Almacene estos nombres de pizza en una lista y luego use un ciclo for para imprimir el nombre de cada pizza.\n",
        "\n",
        "Modifique su ciclo for para imprimir una oración usando el nombre de la pizza en lugar de imprimir solo el nombre de la pizza. Para cada pizza, debe tener una línea de salida que contenga una declaración simple como Me gusta la pizza de pepperoni.\n",
        "Agregue una línea al final de su programa, fuera del bucle for, que indique cuánto le gusta la pizza. El resultado debe constar de tres o más líneas sobre los tipos de pizza que te gustan y luego una oración adicional, como ¡Me encanta la pizza!\n"
      ],
      "metadata": {
        "id": "FHwT_HI5Hedh"
      }
    },
    {
      "cell_type": "code",
      "source": [
        "\n",
        "pizza1 = input('escoja tu pizza favorita: ')\n",
        "pizza2 = input('escoja tu 2da pizza favorita: ')\n",
        "pizza3 = input('escoja tu 3ra pizza favorita: ')\n",
        "\n",
        "lista3 = [pizza1, pizza2, pizza3]\n",
        "\n",
        "for tipo in lista3:\n",
        "  print(f\"Te gusta la pizza de {tipo}.\\n\")\n",
        "\n",
        "print(f'Te gusta mucho la pizza, entre ellas las de {pizza1}, {pizza2} y {pizza3} ')"
      ],
      "metadata": {
        "id": "tagLu6Mt-Hpp",
        "outputId": "275257b8-e268-4494-f332-aaf7276ec72f",
        "colab": {
          "base_uri": "https://localhost:8080/"
        }
      },
      "execution_count": null,
      "outputs": [
        {
          "output_type": "stream",
          "name": "stdout",
          "text": [
            "escoja tu pizza favorita: durazno\n",
            "escoja tu 2da pizza favorita: piña\n",
            "escoja tu 3ra pizza favorita: carne\n",
            "Te gusta la pizza de durazno.\n",
            "\n",
            "Te gusta la pizza de piña.\n",
            "\n",
            "Te gusta la pizza de carne.\n",
            "\n",
            "Te gusta mucho la pizza, entre ellas las de durazno, piña y carne \n"
          ]
        }
      ]
    },
    {
      "cell_type": "markdown",
      "source": [
        "<b> Ejercicio 2</b>\n",
        "\n",
        "Piensa en al menos tres animales diferentes que tengan una característica común. Guarde los nombres de estos animales en una lista y luego use un ciclo for para imprimir el nombre de cada animal.\n",
        "\n",
        "Modifique su programa para imprimir una declaración sobre cada animal, como Un perro sería una gran mascota.\n",
        "Agregue una línea al final de su programa indicando lo que estos animales tienen en común. Podría escribir una oración como ¡Cualquiera de estos animales sería una gran mascota!"
      ],
      "metadata": {
        "id": "CBNrK6wXHnEm"
      }
    },
    {
      "cell_type": "code",
      "source": [
        "\n",
        "animal1 = input('escoja su primer animal entre perro, gato o conejo: ')\n",
        "animal2 = input('escoja su 2do animal entre los restantes: ')\n",
        "animal3 = input('escoja su último animal de faltante: ')\n",
        "\n",
        "lista4 = [animal1, animal2, animal3]\n",
        "\n",
        "for animales in lista4:\n",
        "  if animales == \"perro\":\n",
        "    print(\"Un perro sería una excelente mascota para aprender a ser responsable.\\n\")\n",
        "  elif animales == \"gato\":\n",
        "    print('Un gato sería genial si vives solo.\\n')\n",
        "  else:\n",
        "    print('Los conejos son muy adorables.\\n')\n",
        "\n",
        "\n",
        "print(\"\\n¡Cualquiera de estos animales sería una gran mascota!\")"
      ],
      "metadata": {
        "id": "Ye2OsxheAvfh",
        "outputId": "0b445da2-dd3a-4a26-e6d6-3f46d11771b5",
        "colab": {
          "base_uri": "https://localhost:8080/"
        }
      },
      "execution_count": null,
      "outputs": [
        {
          "output_type": "stream",
          "name": "stdout",
          "text": [
            "escoja su primer animal entre perro, gato o conejo: conejo\n",
            "escoja su 2do animal entre los restantes: perro\n",
            "escoja su último animal de faltante: gato\n",
            "Los conejos son muy adorables.\n",
            "\n",
            "Un perro sería una excelente mascota para aprender a ser responsable.\n",
            "\n",
            "Un gato sería genial si vives solo.\n",
            "\n",
            "\n",
            "¡Cualquiera de estos animales sería una gran mascota!\n"
          ]
        }
      ]
    },
    {
      "cell_type": "code",
      "source": [
        "mini_batch = 5\n",
        "start = 0\n",
        "end = 100\n",
        "list_results = []\n",
        "i = start\n",
        "\n",
        "while i <=end:\n",
        "  rango = range(i, int(i+end/mini_batch))\n",
        "  list_results.append([x**2 for x in rango])\n",
        "  i += int(end/mini_batch)\n",
        "  print(f'group {i}/{end} processed')"
      ],
      "metadata": {
        "id": "3zk6J1Vni5rX",
        "outputId": "c315bc16-9dd1-404b-ebd5-a36092d67670",
        "colab": {
          "base_uri": "https://localhost:8080/"
        }
      },
      "execution_count": 2,
      "outputs": [
        {
          "output_type": "stream",
          "name": "stdout",
          "text": [
            "group 20/100 processed\n",
            "group 40/100 processed\n",
            "group 60/100 processed\n",
            "group 80/100 processed\n",
            "group 100/100 processed\n",
            "group 120/100 processed\n"
          ]
        }
      ]
    },
    {
      "cell_type": "code",
      "source": [
        "mini_batch = 10\n",
        "start = 0\n",
        "end = 100\n",
        "list_results = []\n",
        "i = start\n",
        "\n",
        "while i <=end:\n",
        "  rango = range(i, int(i+end/mini_batch))\n",
        "  list_results += [x**2 for x in rango]\n",
        "  i += int(end/mini_batch)\n",
        "  print(f'group {i}/{end} processed')"
      ],
      "metadata": {
        "id": "bRGDx7Hkj2Rn",
        "outputId": "1d3bfbd7-07c3-49e0-df3f-bac007674d34",
        "colab": {
          "base_uri": "https://localhost:8080/"
        }
      },
      "execution_count": 7,
      "outputs": [
        {
          "output_type": "stream",
          "name": "stdout",
          "text": [
            "group 10/100 processed\n",
            "group 20/100 processed\n",
            "group 30/100 processed\n",
            "group 40/100 processed\n",
            "group 50/100 processed\n",
            "group 60/100 processed\n",
            "group 70/100 processed\n",
            "group 80/100 processed\n",
            "group 90/100 processed\n",
            "group 100/100 processed\n",
            "group 110/100 processed\n"
          ]
        }
      ]
    },
    {
      "cell_type": "code",
      "source": [
        "i"
      ],
      "metadata": {
        "id": "i8PGfr-4jkXe",
        "outputId": "6a02929a-197c-441a-aa60-470bb997321a",
        "colab": {
          "base_uri": "https://localhost:8080/"
        }
      },
      "execution_count": 3,
      "outputs": [
        {
          "output_type": "execute_result",
          "data": {
            "text/plain": [
              "120"
            ]
          },
          "metadata": {},
          "execution_count": 3
        }
      ]
    },
    {
      "cell_type": "code",
      "source": [
        "[x for x in range(0, 11)]"
      ],
      "metadata": {
        "id": "uMV8ilufnmRu",
        "outputId": "a915cc9c-1da6-4395-ed25-71b6405777f9",
        "colab": {
          "base_uri": "https://localhost:8080/"
        }
      },
      "execution_count": 17,
      "outputs": [
        {
          "output_type": "execute_result",
          "data": {
            "text/plain": [
              "[0, 1, 2, 3, 4, 5, 6, 7, 8, 9, 10]"
            ]
          },
          "metadata": {},
          "execution_count": 17
        }
      ]
    },
    {
      "cell_type": "markdown",
      "source": [
        "**Ejercicio**\n",
        "Un docente tiene la nota de n estudiantes en dos cursos diferetes (Progrmamación y estadística). Desarrolle un algoritmo que calcule de forma iterativa el promedio de notas para estudiante.\n"
      ],
      "metadata": {
        "id": "dW1zqx4dlLiO"
      }
    },
    {
      "cell_type": "code",
      "source": [
        "names = ['Anderson', 'Samame', 'Romero', 'Vladimir', 'Erik']\n",
        "for name in names:\n",
        "  print(f'{name} está en la clase')"
      ],
      "metadata": {
        "id": "3_vHsBC6lLN_",
        "outputId": "76d515a0-be15-4489-935b-c42259d89504",
        "colab": {
          "base_uri": "https://localhost:8080/"
        }
      },
      "execution_count": 10,
      "outputs": [
        {
          "output_type": "stream",
          "name": "stdout",
          "text": [
            "Anderson está en la clase\n",
            "Samame está en la clase\n",
            "Romero está en la clase\n",
            "Vladimir está en la clase\n",
            "Erik está en la clase\n"
          ]
        }
      ]
    },
    {
      "cell_type": "code",
      "source": [
        "program_grades = [18, 19, 17, 18, 20]\n",
        "program_grades[1]"
      ],
      "metadata": {
        "id": "jtavoIWHmz5m",
        "outputId": "b073ae6f-9bcc-4d4f-d55c-f559a916decd",
        "colab": {
          "base_uri": "https://localhost:8080/"
        }
      },
      "execution_count": 14,
      "outputs": [
        {
          "output_type": "execute_result",
          "data": {
            "text/plain": [
              "19"
            ]
          },
          "metadata": {},
          "execution_count": 14
        }
      ]
    },
    {
      "cell_type": "code",
      "source": [
        "names = ['Anderson', 'Samame', 'Romero', 'Vladimir', 'Erik']\n",
        "program_grades = [18, 19, 17, 18, 20]\n",
        "statis_grades = [15, 12, 10, 18, 14]\n",
        "\n",
        "for name in names:\n",
        "  print(f'{name} obtuvo {(program_grades[names.index(name)]+statis_grades[names.index(name)])/2} de nota promedio de los 02 cursos')"
      ],
      "metadata": {
        "id": "eGkJN5W1mBqP",
        "outputId": "97ad5295-c5d0-48b7-cbee-b3553664f363",
        "colab": {
          "base_uri": "https://localhost:8080/"
        }
      },
      "execution_count": 21,
      "outputs": [
        {
          "output_type": "stream",
          "name": "stdout",
          "text": [
            "Anderson obtuvo 16.5 de nota promedio de los 02 cursos\n",
            "Samame obtuvo 15.5 de nota promedio de los 02 cursos\n",
            "Romero obtuvo 13.5 de nota promedio de los 02 cursos\n",
            "Vladimir obtuvo 18.0 de nota promedio de los 02 cursos\n",
            "Erik obtuvo 17.0 de nota promedio de los 02 cursos\n"
          ]
        }
      ]
    },
    {
      "cell_type": "markdown",
      "source": [
        "DE MODO ITERATIVO - estudiante\n"
      ],
      "metadata": {
        "id": "h5MBmkOPsYaN"
      }
    },
    {
      "cell_type": "code",
      "source": [
        "names = []\n",
        "notas_prog = []\n",
        "notas_stad = []\n",
        "\n",
        "while True:\n",
        "  name = str(input(f'Ingrese nombre del alumno o salir para terminar: '))\n",
        "  if name == 'salir':\n",
        "    break\n",
        "  nota_prog =int(input('Ingrese su nota en programación: '))\n",
        "  nota_stad =int(input('Ingrese su nota en estadística: '))\n",
        "  names.append(name)\n",
        "  notas_prog.append(nota_prog)\n",
        "  notas_stad.append(nota_stad)"
      ],
      "metadata": {
        "id": "7YCUh3HJsabE",
        "outputId": "76a14219-07a8-43dd-a07e-aaf586394957",
        "colab": {
          "base_uri": "https://localhost:8080/"
        }
      },
      "execution_count": 26,
      "outputs": [
        {
          "name": "stdout",
          "output_type": "stream",
          "text": [
            "Ingrese nombre del alumno o salir para terminar: andy\n",
            "Ingrese su nota en programación: 15\n",
            "Ingrese su nota en estadística: 18\n",
            "Ingrese nombre del alumno o salir para terminar: smame\n",
            "Ingrese su nota en programación: 20\n",
            "Ingrese su nota en estadística: 10\n",
            "Ingrese nombre del alumno o salir para terminar: salir\n"
          ]
        }
      ]
    },
    {
      "cell_type": "code",
      "source": [
        "for name in names:\n",
        "  print(f'{name} obtuvo {(notas_prog[names.index(name)]+notas_stad[names.index(name)])/2} de nota promedio de los 02 cursos')"
      ],
      "metadata": {
        "id": "fsi9bSGkt_3r",
        "outputId": "27c4ba22-13e4-4b38-8e4e-26766ba3fd06",
        "colab": {
          "base_uri": "https://localhost:8080/"
        }
      },
      "execution_count": 28,
      "outputs": [
        {
          "output_type": "stream",
          "name": "stdout",
          "text": [
            "andy obtuvo 16.5 de nota promedio de los 02 cursos\n",
            "smame obtuvo 15.0 de nota promedio de los 02 cursos\n"
          ]
        }
      ]
    },
    {
      "cell_type": "markdown",
      "source": [
        "Metodo itneractivo profe"
      ],
      "metadata": {
        "id": "MfqjHzwhu6Jb"
      }
    },
    {
      "cell_type": "code",
      "source": [
        "names = ['Anderson', 'Samame', 'Romero', 'Vladimir', 'Erik']\n",
        "program_grades = [18, 19, 17, 18, 20]\n",
        "stad_grades = [15, 12, 10, 18, 14]\n",
        "\n",
        "for name, prog in zip(names, program_grades):\n",
        "  print(f'{name} tiene {prog} en programación')"
      ],
      "metadata": {
        "id": "SMqyndVqu53V",
        "outputId": "08f7235d-3db6-4f31-c2a7-c84977741915",
        "colab": {
          "base_uri": "https://localhost:8080/"
        }
      },
      "execution_count": 31,
      "outputs": [
        {
          "output_type": "stream",
          "name": "stdout",
          "text": [
            "Anderson tiene 18 en programación\n",
            "Samame tiene 19 en programación\n",
            "Romero tiene 17 en programación\n",
            "Vladimir tiene 18 en programación\n",
            "Erik tiene 20 en programación\n"
          ]
        }
      ]
    },
    {
      "cell_type": "code",
      "source": [
        "names = ['Anderson', 'Samame', 'Romero', 'Vladimir', 'Erik']\n",
        "program_grades = [18, 19, 17, 18, 20]\n",
        "stad_grades = [15, 15, 10, 18, 14]\n",
        "\n",
        "for name, prog, stad in zip(names, program_grades, stad_grades):\n",
        "  print(f'{name} tiene {(prog + stad)/2} en promedio de nota final')"
      ],
      "metadata": {
        "id": "EEXmmbD0vuB9",
        "outputId": "36b9cd5d-69af-434b-c041-e0351e0e48e8",
        "colab": {
          "base_uri": "https://localhost:8080/"
        }
      },
      "execution_count": 35,
      "outputs": [
        {
          "output_type": "stream",
          "name": "stdout",
          "text": [
            "Anderson tiene 16.5 en promedio de nota final\n",
            "Samame tiene 17.0 en promedio de nota final\n",
            "Romero tiene 13.5 en promedio de nota final\n",
            "Vladimir tiene 18.0 en promedio de nota final\n",
            "Erik tiene 17.0 en promedio de nota final\n"
          ]
        }
      ]
    },
    {
      "cell_type": "markdown",
      "source": [
        "---\n",
        "\n",
        "# Gracias por completar este laboratorio!\n",
        "\n",
        "---\n"
      ],
      "metadata": {
        "id": "Z8TPfkHyH_D5"
      }
    },
    {
      "cell_type": "code",
      "source": [
        "list_results"
      ],
      "metadata": {
        "id": "fsZipScajnRu",
        "outputId": "be79419b-612a-4711-f3cc-ae9b676c5a27",
        "colab": {
          "base_uri": "https://localhost:8080/"
        }
      },
      "execution_count": 8,
      "outputs": [
        {
          "output_type": "execute_result",
          "data": {
            "text/plain": [
              "[0,\n",
              " 1,\n",
              " 4,\n",
              " 9,\n",
              " 16,\n",
              " 25,\n",
              " 36,\n",
              " 49,\n",
              " 64,\n",
              " 81,\n",
              " 100,\n",
              " 121,\n",
              " 144,\n",
              " 169,\n",
              " 196,\n",
              " 225,\n",
              " 256,\n",
              " 289,\n",
              " 324,\n",
              " 361,\n",
              " 400,\n",
              " 441,\n",
              " 484,\n",
              " 529,\n",
              " 576,\n",
              " 625,\n",
              " 676,\n",
              " 729,\n",
              " 784,\n",
              " 841,\n",
              " 900,\n",
              " 961,\n",
              " 1024,\n",
              " 1089,\n",
              " 1156,\n",
              " 1225,\n",
              " 1296,\n",
              " 1369,\n",
              " 1444,\n",
              " 1521,\n",
              " 1600,\n",
              " 1681,\n",
              " 1764,\n",
              " 1849,\n",
              " 1936,\n",
              " 2025,\n",
              " 2116,\n",
              " 2209,\n",
              " 2304,\n",
              " 2401,\n",
              " 2500,\n",
              " 2601,\n",
              " 2704,\n",
              " 2809,\n",
              " 2916,\n",
              " 3025,\n",
              " 3136,\n",
              " 3249,\n",
              " 3364,\n",
              " 3481,\n",
              " 3600,\n",
              " 3721,\n",
              " 3844,\n",
              " 3969,\n",
              " 4096,\n",
              " 4225,\n",
              " 4356,\n",
              " 4489,\n",
              " 4624,\n",
              " 4761,\n",
              " 4900,\n",
              " 5041,\n",
              " 5184,\n",
              " 5329,\n",
              " 5476,\n",
              " 5625,\n",
              " 5776,\n",
              " 5929,\n",
              " 6084,\n",
              " 6241,\n",
              " 6400,\n",
              " 6561,\n",
              " 6724,\n",
              " 6889,\n",
              " 7056,\n",
              " 7225,\n",
              " 7396,\n",
              " 7569,\n",
              " 7744,\n",
              " 7921,\n",
              " 8100,\n",
              " 8281,\n",
              " 8464,\n",
              " 8649,\n",
              " 8836,\n",
              " 9025,\n",
              " 9216,\n",
              " 9409,\n",
              " 9604,\n",
              " 9801,\n",
              " 10000,\n",
              " 10201,\n",
              " 10404,\n",
              " 10609,\n",
              " 10816,\n",
              " 11025,\n",
              " 11236,\n",
              " 11449,\n",
              " 11664,\n",
              " 11881]"
            ]
          },
          "metadata": {},
          "execution_count": 8
        }
      ]
    }
  ]
}