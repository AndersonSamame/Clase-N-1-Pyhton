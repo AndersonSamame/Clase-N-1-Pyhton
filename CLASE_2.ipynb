{
  "nbformat": 4,
  "nbformat_minor": 0,
  "metadata": {
    "colab": {
      "provenance": [],
      "toc_visible": true,
      "include_colab_link": true
    },
    "kernelspec": {
      "name": "python3",
      "display_name": "Python 3"
    },
    "language_info": {
      "name": "python"
    }
  },
  "cells": [
    {
      "cell_type": "markdown",
      "metadata": {
        "id": "view-in-github",
        "colab_type": "text"
      },
      "source": [
        "<a href=\"https://colab.research.google.com/github/AndersonSamame/Clase-N-1-Pyhton/blob/main/CLASE_2.ipynb\" target=\"_parent\"><img src=\"https://colab.research.google.com/assets/colab-badge.svg\" alt=\"Open In Colab\"/></a>"
      ]
    },
    {
      "cell_type": "markdown",
      "source": [
        "### Actividades"
      ],
      "metadata": {
        "id": "U-45KIGy8gJN"
      }
    },
    {
      "cell_type": "markdown",
      "source": [
        "### Pregunta 1"
      ],
      "metadata": {
        "id": "5mirelBF8oZp"
      }
    },
    {
      "cell_type": "markdown",
      "source": [
        "1.1. Crear una lista que inicie en el número 12 y acabe en el número 200, en su construcción se considere saltos de 2 en 2, guarde la lista con el nombre \"lista_x\".\n",
        "\n",
        "1.2. Con la lista_x, eliminar el primer y el último valor, los valores eliminados se deberán almacenar en otra lista llamada numeros_eliminados.\n",
        "\n",
        "1.3. Muestre los valores de la lista numeros_eliminados.\n",
        "\n",
        "1.4. Muestre los valores mínimos y máximos de la lista_x."
      ],
      "metadata": {
        "id": "IkWFcnOV8634"
      }
    },
    {
      "cell_type": "code",
      "execution_count": null,
      "metadata": {
        "id": "NIAyjc1w8a-1"
      },
      "outputs": [],
      "source": [
        "# 1.1\n",
        "\n",
        "lista_x = list(range(12, 201, 2))\n",
        "#lista_x"
      ]
    },
    {
      "cell_type": "code",
      "source": [
        "lista_x =[]\n",
        "i=12\n",
        "while i<201:\n",
        "  lista_x.append(i)\n",
        "  i+=2\n",
        "print(lista_x)"
      ],
      "metadata": {
        "colab": {
          "base_uri": "https://localhost:8080/"
        },
        "id": "U5qya833CPmR",
        "outputId": "e4a02d4f-0730-4d93-f285-ae021af41698"
      },
      "execution_count": null,
      "outputs": [
        {
          "output_type": "stream",
          "name": "stdout",
          "text": [
            "[12, 14, 16, 18, 20, 22, 24, 26, 28, 30, 32, 34, 36, 38, 40, 42, 44, 46, 48, 50, 52, 54, 56, 58, 60, 62, 64, 66, 68, 70, 72, 74, 76, 78, 80, 82, 84, 86, 88, 90, 92, 94, 96, 98, 100, 102, 104, 106, 108, 110, 112, 114, 116, 118, 120, 122, 124, 126, 128, 130, 132, 134, 136, 138, 140, 142, 144, 146, 148, 150, 152, 154, 156, 158, 160, 162, 164, 166, 168, 170, 172, 174, 176, 178, 180, 182, 184, 186, 188, 190, 192, 194, 196, 198, 200]\n"
          ]
        }
      ]
    },
    {
      "cell_type": "code",
      "source": [
        "# 2\n",
        "numeros_eliminados = [lista_x.pop(0), lista_x.pop()]"
      ],
      "metadata": {
        "id": "fB68u6B9_kgK"
      },
      "execution_count": null,
      "outputs": []
    },
    {
      "cell_type": "code",
      "source": [
        "a = lista_x.pop(0)\n",
        "b = lista_x.pop()"
      ],
      "metadata": {
        "id": "n8yD_Y35_1KN"
      },
      "execution_count": null,
      "outputs": []
    },
    {
      "cell_type": "code",
      "source": [
        "numeros_eliminados = [a,b]"
      ],
      "metadata": {
        "id": "umgNze_XBh4f"
      },
      "execution_count": null,
      "outputs": []
    },
    {
      "cell_type": "code",
      "source": [
        "type(numeros_eliminados)"
      ],
      "metadata": {
        "colab": {
          "base_uri": "https://localhost:8080/"
        },
        "id": "FrHtp_1rAcBG",
        "outputId": "bbb9e0f1-0796-44ad-e0ed-21e584e350bd"
      },
      "execution_count": null,
      "outputs": [
        {
          "output_type": "execute_result",
          "data": {
            "text/plain": [
              "list"
            ]
          },
          "metadata": {},
          "execution_count": 6
        }
      ]
    },
    {
      "cell_type": "code",
      "source": [
        "%whos"
      ],
      "metadata": {
        "colab": {
          "base_uri": "https://localhost:8080/"
        },
        "id": "v8g4WftOAUl7",
        "outputId": "88735c01-de93-4cef-eb9a-5c43a6c1c64a"
      },
      "execution_count": null,
      "outputs": [
        {
          "output_type": "stream",
          "name": "stdout",
          "text": [
            "Variable             Type    Data/Info\n",
            "--------------------------------------\n",
            "a                    int     14\n",
            "b                    int     198\n",
            "i                    int     202\n",
            "lista_x              list    n=91\n",
            "numeros_eliminados   list    n=2\n"
          ]
        }
      ]
    },
    {
      "cell_type": "code",
      "source": [
        "numeros_eliminados = []\n",
        "numeros_eliminados.append(lista_x.pop(0))\n",
        "numeros_eliminados.append(lista_x.pop())\n",
        "numeros_eliminados"
      ],
      "metadata": {
        "colab": {
          "base_uri": "https://localhost:8080/"
        },
        "id": "nyp1KXhQBDjT",
        "outputId": "cb7fc56f-5e0b-4d19-d011-2f9c1c5e7959"
      },
      "execution_count": null,
      "outputs": [
        {
          "output_type": "execute_result",
          "data": {
            "text/plain": [
              "[16, 196]"
            ]
          },
          "metadata": {},
          "execution_count": 8
        }
      ]
    },
    {
      "cell_type": "code",
      "source": [
        "%whos"
      ],
      "metadata": {
        "colab": {
          "base_uri": "https://localhost:8080/"
        },
        "id": "iRdipZwYDa9w",
        "outputId": "98b6ecb0-a8ab-41c3-fea4-3a094c3925f9"
      },
      "execution_count": null,
      "outputs": [
        {
          "output_type": "stream",
          "name": "stdout",
          "text": [
            "Variable             Type    Data/Info\n",
            "--------------------------------------\n",
            "a                    int     14\n",
            "b                    int     198\n",
            "i                    int     202\n",
            "lista_x              list    n=89\n",
            "numeros_eliminados   list    n=2\n"
          ]
        }
      ]
    },
    {
      "cell_type": "code",
      "source": [
        "# 3\n",
        "\n",
        "print(f\"La lista de valores eliminados {numeros_eliminados}\")\n"
      ],
      "metadata": {
        "colab": {
          "base_uri": "https://localhost:8080/"
        },
        "id": "Ou5Tcy_XCj-j",
        "outputId": "913a6b9d-d99e-42f6-f075-52023ef66717"
      },
      "execution_count": null,
      "outputs": [
        {
          "output_type": "stream",
          "name": "stdout",
          "text": [
            "La lista de valores eliminados [16, 196]\n"
          ]
        }
      ]
    },
    {
      "cell_type": "code",
      "source": [
        "min(lista_x)"
      ],
      "metadata": {
        "colab": {
          "base_uri": "https://localhost:8080/"
        },
        "id": "VVH9nXxLEDjK",
        "outputId": "472cc8de-aa80-47c2-8c21-39dae22f355f"
      },
      "execution_count": null,
      "outputs": [
        {
          "output_type": "execute_result",
          "data": {
            "text/plain": [
              "18"
            ]
          },
          "metadata": {},
          "execution_count": 11
        }
      ]
    },
    {
      "cell_type": "code",
      "source": [
        "max(lista_x)"
      ],
      "metadata": {
        "colab": {
          "base_uri": "https://localhost:8080/"
        },
        "id": "PzLD4jTjEIZ0",
        "outputId": "6b979168-dfcc-4cd8-eae7-d3faa62fc1b4"
      },
      "execution_count": null,
      "outputs": [
        {
          "output_type": "execute_result",
          "data": {
            "text/plain": [
              "194"
            ]
          },
          "metadata": {},
          "execution_count": 12
        }
      ]
    },
    {
      "cell_type": "code",
      "source": [
        "# 4\n",
        "\n",
        "print(f\"El valor mínimo de la lista lista_x: {min(lista_x)}\\n\")\n",
        "print(f\"El valor máximo de la lista lista_x: {max(lista_x)}\")"
      ],
      "metadata": {
        "colab": {
          "base_uri": "https://localhost:8080/"
        },
        "id": "J2EzotaJDm9u",
        "outputId": "658af98c-c4c0-40b4-bf3d-a9e969b04907"
      },
      "execution_count": null,
      "outputs": [
        {
          "output_type": "stream",
          "name": "stdout",
          "text": [
            "El valor mínimo de la lista lista_x: 18\n",
            "\n",
            "El valor máximo de la lista lista_x: 194\n"
          ]
        }
      ]
    },
    {
      "cell_type": "markdown",
      "source": [
        "### Pregunta 2"
      ],
      "metadata": {
        "id": "Y6Yn_1aBEmz7"
      }
    },
    {
      "cell_type": "markdown",
      "source": [
        "2.1. Determine el número de elementos de la lista a crear.\n",
        "\n",
        "2.2. Ingrese los valores de la lista a crear.\n",
        "\n",
        "2.3. Almacene los valores en una lista.\n",
        "\n",
        "2.4. Muestre los valores de la lista.\n",
        "\n",
        "2.5. Calcule y muestre los valores mínimo, máximo y promedio de los valores de la lista."
      ],
      "metadata": {
        "id": "yy6d9TsLE70l"
      }
    },
    {
      "cell_type": "code",
      "source": [
        "#1\n",
        "lista_element = []\n",
        "\n",
        "cant_element = int(input(\"Ingrese el numero de elementos que desea en la lista: \"))"
      ],
      "metadata": {
        "colab": {
          "base_uri": "https://localhost:8080/"
        },
        "id": "IXwymJdxEY8_",
        "outputId": "1effcd51-3be6-4ff6-9a74-e8b2ce7dee2e"
      },
      "execution_count": null,
      "outputs": [
        {
          "name": "stdout",
          "output_type": "stream",
          "text": [
            "Ingrese el numero de elementos que desea en la lista: 2\n"
          ]
        }
      ]
    },
    {
      "cell_type": "code",
      "source": [
        "inicio = 1\n",
        "\n",
        "while inicio <= cant_element:\n",
        "  valores = int(input(\"Ingrese el valor a almacenar: \"))\n",
        "  lista_element.append(valores)\n",
        "  inicio=inicio+1\n"
      ],
      "metadata": {
        "colab": {
          "base_uri": "https://localhost:8080/"
        },
        "id": "_YohK-ZGH_I4",
        "outputId": "7a3c4efd-0ace-477d-a472-f0d672c385e8"
      },
      "execution_count": null,
      "outputs": [
        {
          "name": "stdout",
          "output_type": "stream",
          "text": [
            "Ingrese el valor a almacenar: 1\n",
            "Ingrese el valor a almacenar: 2\n"
          ]
        }
      ]
    },
    {
      "cell_type": "code",
      "source": [
        "print(f\"La lista es: {lista_element} \\n\")\n",
        "print(f\"valor máximo de la lista {max(lista_element)} \\n\")\n",
        "print(f\"valor mínimo de la lista {min(lista_element)} \\n\")\n",
        "\n",
        "suma = sum(lista_element)\n",
        "cantidad = len(lista_element)\n",
        "\n",
        "print(f\"El valor promedio de la lista es: {suma/cantidad}\")"
      ],
      "metadata": {
        "colab": {
          "base_uri": "https://localhost:8080/"
        },
        "id": "ffZU2fwTICD-",
        "outputId": "16e90596-6091-45d6-e3fa-654ae6e87263"
      },
      "execution_count": null,
      "outputs": [
        {
          "output_type": "stream",
          "name": "stdout",
          "text": [
            "La lista es: [1, 2] \n",
            "\n",
            "valor máximo de la lista 2 \n",
            "\n",
            "valor mínimo de la lista 1 \n",
            "\n",
            "El valor promedio de la lista es: 1.5\n"
          ]
        }
      ]
    },
    {
      "cell_type": "code",
      "source": [
        "numeros = []\n",
        "\n",
        "for i in range(cant_element):\n",
        "  numeros.append(int(input(\"Ingreso el elemento: \\n\")))"
      ],
      "metadata": {
        "colab": {
          "base_uri": "https://localhost:8080/"
        },
        "id": "9zJmI0XhI4zb",
        "outputId": "acba526c-7b76-4f20-955e-14d21c8d3252"
      },
      "execution_count": null,
      "outputs": [
        {
          "name": "stdout",
          "output_type": "stream",
          "text": [
            "Ingreso el elemento: \n",
            "2\n",
            "Ingreso el elemento: \n",
            "3\n"
          ]
        }
      ]
    },
    {
      "cell_type": "code",
      "source": [
        "print(f\"La lista es: {numeros} \\n\")\n",
        "print(f\"valor máximo de la lista {max(numeros)} \\n\")\n",
        "print(f\"valor mínimo de la lista {min(numeros)} \\n\")\n",
        "print(f\"El valor promedio de la lista es: {sum(numeros)/len(numeros)}\")"
      ],
      "metadata": {
        "colab": {
          "base_uri": "https://localhost:8080/"
        },
        "id": "oKQubDWwKCjc",
        "outputId": "59d70515-0a57-41d4-e1bf-c5d0197634ea"
      },
      "execution_count": null,
      "outputs": [
        {
          "output_type": "stream",
          "name": "stdout",
          "text": [
            "La lista es: [2, 3] \n",
            "\n",
            "valor máximo de la lista 3 \n",
            "\n",
            "valor mínimo de la lista 2 \n",
            "\n",
            "El valor promedio de la lista es: 2.5\n"
          ]
        }
      ]
    },
    {
      "cell_type": "code",
      "source": [
        "sum(numeros)"
      ],
      "metadata": {
        "colab": {
          "base_uri": "https://localhost:8080/"
        },
        "id": "lNpiHnG9KhxF",
        "outputId": "a31eed3b-c268-408a-cd0d-7f25679f8e44"
      },
      "execution_count": null,
      "outputs": [
        {
          "output_type": "execute_result",
          "data": {
            "text/plain": [
              "5"
            ]
          },
          "metadata": {},
          "execution_count": 19
        }
      ]
    },
    {
      "cell_type": "code",
      "source": [
        "numeros = []\n",
        "\n",
        "for i in range(cant_element):\n",
        "  numeros.append(int(input(f\"Ingrese el elemento {i}: \\n\")))"
      ],
      "metadata": {
        "colab": {
          "base_uri": "https://localhost:8080/"
        },
        "id": "aglw69T6Korv",
        "outputId": "4a60dff3-8d2a-40cf-a73a-c7ebed87950b"
      },
      "execution_count": null,
      "outputs": [
        {
          "name": "stdout",
          "output_type": "stream",
          "text": [
            "Ingrese el elemento 0: \n",
            "1\n",
            "Ingrese el elemento 1: \n",
            "2\n"
          ]
        }
      ]
    },
    {
      "cell_type": "markdown",
      "source": [
        "### Pregunta 3"
      ],
      "metadata": {
        "id": "ljocRi-vLUfC"
      }
    },
    {
      "cell_type": "markdown",
      "source": [
        "1. Ingrese a python la siguiente lista_x = [\"A\", \"B\", \"b\", \"c\", \"E\", \"E\", \"f\"]\n",
        "\n",
        "2. Solicitar al usuario un elemento a eliminar.\n",
        "\n",
        "3. Mostrar el elemento eliminado y la lista resultante."
      ],
      "metadata": {
        "id": "i_woe488LYpT"
      }
    },
    {
      "cell_type": "code",
      "source": [
        "lista_x = [\"A\", \"B\", \"b\", \"c\", \"E\", \"E\", \"f\"]\n",
        "\n",
        "elemento_eliminar = input(\"Ingrese el elemento que desea eliminar: \")\n",
        "\n",
        "if elemento_eliminar in lista_x:\n",
        "  lista_x.remove(elemento_eliminar)\n",
        "  print(f\"El elemento {elemento_eliminar} ha sido eliminado.\")\n",
        "  print(f\"La lista resultante es: {lista_x}\")\n",
        "else:\n",
        "  print(f\"El elemento {elemento_eliminar} no se encuentra en la lista.\")"
      ],
      "metadata": {
        "colab": {
          "base_uri": "https://localhost:8080/"
        },
        "id": "HKsY1BNiK5qz",
        "outputId": "f617f324-c88a-437f-aa55-07695c007a18"
      },
      "execution_count": null,
      "outputs": [
        {
          "output_type": "stream",
          "name": "stdout",
          "text": [
            "Ingrese el elemento que desea eliminar: 3\n",
            "El elemento 3 no se encuentra en la lista.\n"
          ]
        }
      ]
    },
    {
      "cell_type": "code",
      "source": [
        "lista_x = [\"A\", \"B\", \"b\", \"c\", \"E\", \"E\", \"f\"]\n",
        "\n",
        "print(f\"La lista inicial es {lista_x} \\n\")\n",
        "\n",
        "elemento = input(\"El elemento a eliminar: \\n\")\n",
        "\n",
        "for _ in lista_x:\n",
        "  if elemento.lower() in lista_x:\n",
        "    lista_x.remove(elemento.lower())\n",
        "  elif elemento.upper() in lista_x:\n",
        "    lista_x.remove(elemento.upper())\n",
        "\n",
        "print(f\"El elemento eliminado es: {elemento.lower()} \\n\")\n",
        "print(f\"El elemento eliminado es: {elemento.upper()} \\n\")\n",
        "print(f\"La lista depurada es: {lista_x}\")\n"
      ],
      "metadata": {
        "colab": {
          "base_uri": "https://localhost:8080/"
        },
        "id": "4vOM9L96M-Xr",
        "outputId": "8fff7ca5-3998-484e-d7c6-6ff11f2f7065"
      },
      "execution_count": null,
      "outputs": [
        {
          "output_type": "stream",
          "name": "stdout",
          "text": [
            "La lista inicial es ['A', 'B', 'b', 'c', 'E', 'E', 'f'] \n",
            "\n",
            "El elemento a eliminar: \n",
            "A\n",
            "El elemento eliminado es: a \n",
            "\n",
            "El elemento eliminado es: A \n",
            "\n",
            "La lista depurada es: ['B', 'b', 'c', 'E', 'E', 'f']\n"
          ]
        }
      ]
    },
    {
      "cell_type": "code",
      "source": [
        "lista_a = [1]"
      ],
      "metadata": {
        "id": "KNdk_WuUU34s"
      },
      "execution_count": null,
      "outputs": []
    },
    {
      "cell_type": "code",
      "source": [
        "%whos"
      ],
      "metadata": {
        "colab": {
          "base_uri": "https://localhost:8080/"
        },
        "id": "8bHPtN8AU9uN",
        "outputId": "704cbdbb-fe7f-4387-b68e-d119d291e4c4"
      },
      "execution_count": null,
      "outputs": [
        {
          "output_type": "stream",
          "name": "stdout",
          "text": [
            "Variable             Type    Data/Info\n",
            "--------------------------------------\n",
            "a                    int     14\n",
            "b                    int     198\n",
            "cant_element         int     2\n",
            "cantidad             int     2\n",
            "elemento             str     A\n",
            "elemento_eliminar    str     3\n",
            "i                    int     1\n",
            "inicio               int     3\n",
            "lista_a              list    n=1\n",
            "lista_element        list    n=2\n",
            "lista_x              list    n=6\n",
            "numeros              list    n=2\n",
            "numeros_eliminados   list    n=2\n",
            "suma                 int     3\n",
            "valores              int     2\n"
          ]
        }
      ]
    },
    {
      "cell_type": "code",
      "source": [
        "lista_a.append(100)\n",
        "lista_a"
      ],
      "metadata": {
        "colab": {
          "base_uri": "https://localhost:8080/"
        },
        "id": "mdNZeMKUVDMw",
        "outputId": "414560d8-cf6d-471b-f15f-bd959ca61a57"
      },
      "execution_count": null,
      "outputs": [
        {
          "output_type": "execute_result",
          "data": {
            "text/plain": [
              "[1, 100]"
            ]
          },
          "metadata": {},
          "execution_count": 25
        }
      ]
    },
    {
      "cell_type": "markdown",
      "source": [
        "### Tuplas"
      ],
      "metadata": {
        "id": "JUGnBmGGUtDa"
      }
    },
    {
      "cell_type": "code",
      "source": [
        "tupla_0 = (1,)"
      ],
      "metadata": {
        "id": "w2MaJ2XXS9Dw"
      },
      "execution_count": null,
      "outputs": []
    },
    {
      "cell_type": "code",
      "source": [
        "%whos"
      ],
      "metadata": {
        "colab": {
          "base_uri": "https://localhost:8080/"
        },
        "id": "-PRwBH20VTiE",
        "outputId": "64e74f8b-2108-455e-9308-864b25e8c302"
      },
      "execution_count": null,
      "outputs": [
        {
          "output_type": "stream",
          "name": "stdout",
          "text": [
            "Variable             Type     Data/Info\n",
            "---------------------------------------\n",
            "a                    int      14\n",
            "b                    int      198\n",
            "cant_element         int      2\n",
            "cantidad             int      2\n",
            "elemento             str      A\n",
            "elemento_eliminar    str      3\n",
            "i                    int      1\n",
            "inicio               int      3\n",
            "lista_a              list     n=2\n",
            "lista_element        list     n=2\n",
            "lista_x              list     n=6\n",
            "numeros              list     n=2\n",
            "numeros_eliminados   list     n=2\n",
            "suma                 int      3\n",
            "tupla_0              tuple    n=1\n",
            "valores              int      2\n"
          ]
        }
      ]
    },
    {
      "cell_type": "code",
      "source": [
        "# Tupla homogénea\n",
        "\n",
        "tupla_1 = (2.0, 2.5, 2.6, 3.2, 3.3)\n",
        "tupla_1"
      ],
      "metadata": {
        "colab": {
          "base_uri": "https://localhost:8080/"
        },
        "id": "5GxrRS50VV0Q",
        "outputId": "b89ece15-22ff-47ce-caeb-05d2bcaaa091"
      },
      "execution_count": null,
      "outputs": [
        {
          "output_type": "execute_result",
          "data": {
            "text/plain": [
              "(2.0, 2.5, 2.6, 3.2, 3.3)"
            ]
          },
          "metadata": {},
          "execution_count": 28
        }
      ]
    },
    {
      "cell_type": "code",
      "source": [
        "type(tupla_1)"
      ],
      "metadata": {
        "colab": {
          "base_uri": "https://localhost:8080/"
        },
        "id": "K3iTdvclVuba",
        "outputId": "64637f55-4de8-4655-f496-36df87a35f23"
      },
      "execution_count": null,
      "outputs": [
        {
          "output_type": "execute_result",
          "data": {
            "text/plain": [
              "tuple"
            ]
          },
          "metadata": {},
          "execution_count": 29
        }
      ]
    },
    {
      "cell_type": "code",
      "source": [
        "# Tupla Heterogénea\n",
        "\n",
        "tupla_2 = (3, True, \"Hola\", 2.5)\n",
        "tupla_2"
      ],
      "metadata": {
        "colab": {
          "base_uri": "https://localhost:8080/"
        },
        "id": "uRhm1bapVzZA",
        "outputId": "b1e5d62d-be2d-4b21-82da-c1696cbfe228"
      },
      "execution_count": null,
      "outputs": [
        {
          "output_type": "execute_result",
          "data": {
            "text/plain": [
              "(3, True, 'Hola', 2.5)"
            ]
          },
          "metadata": {},
          "execution_count": 30
        }
      ]
    },
    {
      "cell_type": "markdown",
      "source": [
        "### Acceder a los elementos de la tupla"
      ],
      "metadata": {
        "id": "vkZiW1HkWY7Y"
      }
    },
    {
      "cell_type": "code",
      "source": [
        "# Accedemos a los elementos de una tupla por índices"
      ],
      "metadata": {
        "id": "h7_srrlUWEJD"
      },
      "execution_count": null,
      "outputs": []
    },
    {
      "cell_type": "code",
      "source": [
        "%whos"
      ],
      "metadata": {
        "colab": {
          "base_uri": "https://localhost:8080/"
        },
        "id": "MqMjx9jiWiYd",
        "outputId": "c1bba6dd-14c9-4945-bf37-17ab0ebf10dc"
      },
      "execution_count": null,
      "outputs": [
        {
          "output_type": "stream",
          "name": "stdout",
          "text": [
            "Variable             Type     Data/Info\n",
            "---------------------------------------\n",
            "a                    int      14\n",
            "b                    int      198\n",
            "cant_element         int      2\n",
            "cantidad             int      2\n",
            "elemento             str      A\n",
            "elemento_eliminar    str      3\n",
            "i                    int      1\n",
            "inicio               int      3\n",
            "lista_a              list     n=2\n",
            "lista_element        list     n=2\n",
            "lista_x              list     n=6\n",
            "numeros              list     n=2\n",
            "numeros_eliminados   list     n=2\n",
            "suma                 int      3\n",
            "tupla_0              tuple    n=1\n",
            "tupla_1              tuple    n=5\n",
            "tupla_2              tuple    n=4\n",
            "valores              int      2\n"
          ]
        }
      ]
    },
    {
      "cell_type": "code",
      "source": [
        "tupla_2"
      ],
      "metadata": {
        "colab": {
          "base_uri": "https://localhost:8080/"
        },
        "id": "_FkmANKpWjoC",
        "outputId": "e76a0c96-1fa6-4238-a6bd-3dfcf92c0de0"
      },
      "execution_count": null,
      "outputs": [
        {
          "output_type": "execute_result",
          "data": {
            "text/plain": [
              "(3, True, 'Hola', 2.5)"
            ]
          },
          "metadata": {},
          "execution_count": 33
        }
      ]
    },
    {
      "cell_type": "code",
      "source": [
        "tupla_2[2]"
      ],
      "metadata": {
        "colab": {
          "base_uri": "https://localhost:8080/",
          "height": 35
        },
        "id": "MZp7SaA1WmDP",
        "outputId": "29b39e61-a551-4a5f-f2dd-a635242b546b"
      },
      "execution_count": null,
      "outputs": [
        {
          "output_type": "execute_result",
          "data": {
            "text/plain": [
              "'Hola'"
            ],
            "application/vnd.google.colaboratory.intrinsic+json": {
              "type": "string"
            }
          },
          "metadata": {},
          "execution_count": 34
        }
      ]
    },
    {
      "cell_type": "code",
      "source": [
        "lista_x"
      ],
      "metadata": {
        "colab": {
          "base_uri": "https://localhost:8080/"
        },
        "id": "r-XeOZ1dXF9o",
        "outputId": "c8af6b61-5cd6-49fc-f11d-7dbc0ed82ad5"
      },
      "execution_count": null,
      "outputs": [
        {
          "output_type": "execute_result",
          "data": {
            "text/plain": [
              "['B', 'b', 'c', 'E', 'E', 'f']"
            ]
          },
          "metadata": {},
          "execution_count": 35
        }
      ]
    },
    {
      "cell_type": "code",
      "source": [
        "lista_x[0]"
      ],
      "metadata": {
        "colab": {
          "base_uri": "https://localhost:8080/",
          "height": 35
        },
        "id": "GDVRcjIKXJ5-",
        "outputId": "7873f774-78d4-42dc-8b9e-bb04e1b479f8"
      },
      "execution_count": null,
      "outputs": [
        {
          "output_type": "execute_result",
          "data": {
            "text/plain": [
              "'B'"
            ],
            "application/vnd.google.colaboratory.intrinsic+json": {
              "type": "string"
            }
          },
          "metadata": {},
          "execution_count": 36
        }
      ]
    },
    {
      "cell_type": "code",
      "source": [
        "# Por operadores de segmentación"
      ],
      "metadata": {
        "id": "lYFAru37XNI9"
      },
      "execution_count": null,
      "outputs": []
    },
    {
      "cell_type": "code",
      "source": [
        "tupla_5 = (1,2,3,4,5,6,7,8)\n",
        "tupla_5"
      ],
      "metadata": {
        "colab": {
          "base_uri": "https://localhost:8080/"
        },
        "id": "FxnlxLQTXbVg",
        "outputId": "3deb5227-43c3-4db1-9a17-f73450dc2cff"
      },
      "execution_count": null,
      "outputs": [
        {
          "output_type": "execute_result",
          "data": {
            "text/plain": [
              "(1, 2, 3, 4, 5, 6, 7, 8)"
            ]
          },
          "metadata": {},
          "execution_count": 38
        }
      ]
    },
    {
      "cell_type": "code",
      "source": [
        "tupla_5[5:]"
      ],
      "metadata": {
        "colab": {
          "base_uri": "https://localhost:8080/"
        },
        "id": "sZtlgFxLYOji",
        "outputId": "b8daeaff-7932-48ec-fb5f-1c5f3394c7ca"
      },
      "execution_count": null,
      "outputs": [
        {
          "output_type": "execute_result",
          "data": {
            "text/plain": [
              "(6, 7, 8)"
            ]
          },
          "metadata": {},
          "execution_count": 39
        }
      ]
    },
    {
      "cell_type": "code",
      "source": [
        "tupla_5[2:6]"
      ],
      "metadata": {
        "colab": {
          "base_uri": "https://localhost:8080/"
        },
        "id": "YlbZ0NgZY1w8",
        "outputId": "ee713c60-dae2-443f-9aa4-a50b5442e61c"
      },
      "execution_count": null,
      "outputs": [
        {
          "output_type": "execute_result",
          "data": {
            "text/plain": [
              "(3, 4, 5, 6)"
            ]
          },
          "metadata": {},
          "execution_count": 40
        }
      ]
    },
    {
      "cell_type": "markdown",
      "source": [
        "### Pregunta 4"
      ],
      "metadata": {
        "id": "Nr_XkOWZZriZ"
      }
    },
    {
      "cell_type": "markdown",
      "source": [
        "4.1. Crear una tupla que contenga el nombre de 10 paises.\n",
        "\n",
        "4.2. Mostrar el segundo país ingresado en la tupla, teniendo una selección previa hecha con saltos de 2 en 2."
      ],
      "metadata": {
        "id": "ITbRLxTSZ4NF"
      }
    },
    {
      "cell_type": "code",
      "source": [
        "countries = (\"Peru\", \"Brasil\", \"Alemania\", \"Colombia\", \"Argentina\", \"Ecuador\", \"Uruguay\",\n",
        "             \"Rusia\", \"Bolivia\", \"Venezuela\") #segundo de la tupla:"
      ],
      "metadata": {
        "id": "pGwCvo9yZ0jY"
      },
      "execution_count": null,
      "outputs": []
    },
    {
      "cell_type": "code",
      "source": [
        "countries"
      ],
      "metadata": {
        "colab": {
          "base_uri": "https://localhost:8080/"
        },
        "id": "AIonBaMoZL-c",
        "outputId": "769cb588-fc55-40d4-cdbd-6dd7df7fe8d5"
      },
      "execution_count": null,
      "outputs": [
        {
          "output_type": "execute_result",
          "data": {
            "text/plain": [
              "('Peru',\n",
              " 'Brasil',\n",
              " 'Alemania',\n",
              " 'Colombia',\n",
              " 'Argentina',\n",
              " 'Ecuador',\n",
              " 'Uruguay',\n",
              " 'Rusia',\n",
              " 'Bolivia',\n",
              " 'Venezuela')"
            ]
          },
          "metadata": {},
          "execution_count": 42
        }
      ]
    },
    {
      "cell_type": "code",
      "source": [
        "countries[1::2]"
      ],
      "metadata": {
        "colab": {
          "base_uri": "https://localhost:8080/"
        },
        "id": "9Z_pAbJNbhYp",
        "outputId": "33c4cce0-18a1-4be1-deb7-209afbb30861"
      },
      "execution_count": null,
      "outputs": [
        {
          "output_type": "execute_result",
          "data": {
            "text/plain": [
              "('Brasil', 'Colombia', 'Ecuador', 'Rusia', 'Venezuela')"
            ]
          },
          "metadata": {},
          "execution_count": 43
        }
      ]
    },
    {
      "cell_type": "code",
      "source": [
        "countries[1::2][0]"
      ],
      "metadata": {
        "colab": {
          "base_uri": "https://localhost:8080/",
          "height": 35
        },
        "id": "2HC4n7VjblQ6",
        "outputId": "b0c6c92a-7ec6-4f77-c6cf-f762f30acb82"
      },
      "execution_count": null,
      "outputs": [
        {
          "output_type": "execute_result",
          "data": {
            "text/plain": [
              "'Brasil'"
            ],
            "application/vnd.google.colaboratory.intrinsic+json": {
              "type": "string"
            }
          },
          "metadata": {},
          "execution_count": 44
        }
      ]
    },
    {
      "cell_type": "code",
      "source": [
        "tupla_vocales = (\"a\",\"e\",\"i\",\"o\",\"u\")\n",
        "tupla_vocales"
      ],
      "metadata": {
        "colab": {
          "base_uri": "https://localhost:8080/"
        },
        "id": "DdcEIv77cyIP",
        "outputId": "fa9e8067-6289-44c6-e969-10753bcc77b4"
      },
      "execution_count": null,
      "outputs": [
        {
          "output_type": "execute_result",
          "data": {
            "text/plain": [
              "('a', 'e', 'i', 'o', 'u')"
            ]
          },
          "metadata": {},
          "execution_count": 45
        }
      ]
    },
    {
      "cell_type": "code",
      "source": [
        "tupla_vocales[1:4]"
      ],
      "metadata": {
        "colab": {
          "base_uri": "https://localhost:8080/"
        },
        "id": "n4Nm0sWbde4R",
        "outputId": "b3c913c5-7bc2-475e-bfeb-081332c03fed"
      },
      "execution_count": null,
      "outputs": [
        {
          "output_type": "execute_result",
          "data": {
            "text/plain": [
              "('e', 'i', 'o')"
            ]
          },
          "metadata": {},
          "execution_count": 46
        }
      ]
    },
    {
      "cell_type": "code",
      "source": [
        "tupla_vocales[1:4:1]"
      ],
      "metadata": {
        "colab": {
          "base_uri": "https://localhost:8080/"
        },
        "id": "GZZ0BpqPduWS",
        "outputId": "f71b4dff-9c37-481f-ecc2-0f2695bf337c"
      },
      "execution_count": null,
      "outputs": [
        {
          "output_type": "execute_result",
          "data": {
            "text/plain": [
              "('e', 'i', 'o')"
            ]
          },
          "metadata": {},
          "execution_count": 47
        }
      ]
    },
    {
      "cell_type": "code",
      "source": [
        "tupla_vocales[1:4:2]"
      ],
      "metadata": {
        "colab": {
          "base_uri": "https://localhost:8080/"
        },
        "id": "m7xnez9Pdy03",
        "outputId": "e6914d73-696c-46de-fccd-ece36b55918c"
      },
      "execution_count": null,
      "outputs": [
        {
          "output_type": "execute_result",
          "data": {
            "text/plain": [
              "('e', 'o')"
            ]
          },
          "metadata": {},
          "execution_count": 48
        }
      ]
    },
    {
      "cell_type": "code",
      "source": [
        "tupla_p = ([2,4,6],(2,1))\n",
        "tupla_p"
      ],
      "metadata": {
        "id": "_vHEo6Uyd3XA",
        "colab": {
          "base_uri": "https://localhost:8080/"
        },
        "outputId": "909f8c92-2a30-4451-e9fe-a14c7dc914c5"
      },
      "execution_count": null,
      "outputs": [
        {
          "output_type": "execute_result",
          "data": {
            "text/plain": [
              "([2, 4, 6], (2, 1))"
            ]
          },
          "metadata": {},
          "execution_count": 49
        }
      ]
    },
    {
      "cell_type": "code",
      "source": [
        "tupla_p[0] = 100"
      ],
      "metadata": {
        "colab": {
          "base_uri": "https://localhost:8080/",
          "height": 141
        },
        "id": "GW9LdFXFs2An",
        "outputId": "5d0c22c8-51f8-4bbc-8458-26cacbba2cc2"
      },
      "execution_count": null,
      "outputs": [
        {
          "output_type": "error",
          "ename": "TypeError",
          "evalue": "'tuple' object does not support item assignment",
          "traceback": [
            "\u001b[0;31m---------------------------------------------------------------------------\u001b[0m",
            "\u001b[0;31mTypeError\u001b[0m                                 Traceback (most recent call last)",
            "\u001b[0;32m<ipython-input-50-2490ffe3f5eb>\u001b[0m in \u001b[0;36m<cell line: 1>\u001b[0;34m()\u001b[0m\n\u001b[0;32m----> 1\u001b[0;31m \u001b[0mtupla_p\u001b[0m\u001b[0;34m[\u001b[0m\u001b[0;36m0\u001b[0m\u001b[0;34m]\u001b[0m \u001b[0;34m=\u001b[0m \u001b[0;36m100\u001b[0m\u001b[0;34m\u001b[0m\u001b[0;34m\u001b[0m\u001b[0m\n\u001b[0m",
            "\u001b[0;31mTypeError\u001b[0m: 'tuple' object does not support item assignment"
          ]
        }
      ]
    },
    {
      "cell_type": "code",
      "source": [
        "tupla_p[0][1]"
      ],
      "metadata": {
        "colab": {
          "base_uri": "https://localhost:8080/"
        },
        "id": "AnG4eIqWs6cq",
        "outputId": "85af5f5c-9466-4744-b4f5-b76008fff88e"
      },
      "execution_count": null,
      "outputs": [
        {
          "output_type": "execute_result",
          "data": {
            "text/plain": [
              "4"
            ]
          },
          "metadata": {},
          "execution_count": 52
        }
      ]
    },
    {
      "cell_type": "code",
      "source": [
        "tupla_p[0][1] = 10"
      ],
      "metadata": {
        "id": "bxTaad-htAVz"
      },
      "execution_count": null,
      "outputs": []
    },
    {
      "cell_type": "code",
      "source": [
        "tupla_p"
      ],
      "metadata": {
        "colab": {
          "base_uri": "https://localhost:8080/"
        },
        "id": "BfpL20xHtOEr",
        "outputId": "fb9ac207-fed7-4014-8405-e988f4eeb329"
      },
      "execution_count": null,
      "outputs": [
        {
          "output_type": "execute_result",
          "data": {
            "text/plain": [
              "([2, 10, 6], (2, 1))"
            ]
          },
          "metadata": {},
          "execution_count": 54
        }
      ]
    },
    {
      "cell_type": "code",
      "source": [
        "%whos"
      ],
      "metadata": {
        "colab": {
          "base_uri": "https://localhost:8080/"
        },
        "id": "ekItaytOtQW3",
        "outputId": "5fe02fa4-1a6a-47ed-dbb1-26db235f61c6"
      },
      "execution_count": null,
      "outputs": [
        {
          "output_type": "stream",
          "name": "stdout",
          "text": [
            "Variable             Type     Data/Info\n",
            "---------------------------------------\n",
            "a                    int      14\n",
            "b                    int      198\n",
            "cant_element         int      2\n",
            "cantidad             int      2\n",
            "countries            tuple    n=10\n",
            "elemento             str      A\n",
            "elemento_eliminar    str      3\n",
            "i                    int      1\n",
            "inicio               int      3\n",
            "lista_a              list     n=2\n",
            "lista_element        list     n=2\n",
            "lista_x              list     n=6\n",
            "numeros              list     n=2\n",
            "numeros_eliminados   list     n=2\n",
            "suma                 int      3\n",
            "tupla_0              tuple    n=1\n",
            "tupla_1              tuple    n=5\n",
            "tupla_2              tuple    n=4\n",
            "tupla_5              tuple    n=8\n",
            "tupla_p              tuple    n=2\n",
            "tupla_vocales        tuple    n=5\n",
            "valores              int      2\n"
          ]
        }
      ]
    },
    {
      "cell_type": "code",
      "source": [
        "lista_x"
      ],
      "metadata": {
        "colab": {
          "base_uri": "https://localhost:8080/"
        },
        "id": "33JvH1wltbcm",
        "outputId": "44d3c853-3707-479b-ebbb-8ee6c01f2343"
      },
      "execution_count": null,
      "outputs": [
        {
          "output_type": "execute_result",
          "data": {
            "text/plain": [
              "['B', 'b', 'c', 'E', 'E', 'f']"
            ]
          },
          "metadata": {},
          "execution_count": 56
        }
      ]
    },
    {
      "cell_type": "code",
      "source": [
        "lista_x.append('z')\n",
        "lista_x"
      ],
      "metadata": {
        "colab": {
          "base_uri": "https://localhost:8080/"
        },
        "id": "XDyYFymEthY8",
        "outputId": "f9dabecf-981a-4006-f6ed-36d9bbfe12a4"
      },
      "execution_count": null,
      "outputs": [
        {
          "output_type": "execute_result",
          "data": {
            "text/plain": [
              "['B', 'b', 'c', 'E', 'E', 'f', 'z']"
            ]
          },
          "metadata": {},
          "execution_count": 57
        }
      ]
    },
    {
      "cell_type": "code",
      "source": [
        "tupla_p"
      ],
      "metadata": {
        "colab": {
          "base_uri": "https://localhost:8080/"
        },
        "id": "NBRsxo8atp-o",
        "outputId": "aa121d59-69aa-4994-c4fb-2d248388ee11"
      },
      "execution_count": null,
      "outputs": [
        {
          "output_type": "execute_result",
          "data": {
            "text/plain": [
              "([2, 10, 6], (2, 1))"
            ]
          },
          "metadata": {},
          "execution_count": 58
        }
      ]
    },
    {
      "cell_type": "code",
      "source": [
        "tupla_p[0][1]"
      ],
      "metadata": {
        "colab": {
          "base_uri": "https://localhost:8080/"
        },
        "id": "qmARTp6stszV",
        "outputId": "55945738-e4a6-495e-c6c9-53f6bd104dbc"
      },
      "execution_count": null,
      "outputs": [
        {
          "output_type": "execute_result",
          "data": {
            "text/plain": [
              "10"
            ]
          },
          "metadata": {},
          "execution_count": 59
        }
      ]
    },
    {
      "cell_type": "code",
      "source": [
        "tupla_p[0]"
      ],
      "metadata": {
        "colab": {
          "base_uri": "https://localhost:8080/"
        },
        "id": "b25eJlsFtx-x",
        "outputId": "432a0152-cf2c-4c82-8efc-7f7d98250dd4"
      },
      "execution_count": null,
      "outputs": [
        {
          "output_type": "execute_result",
          "data": {
            "text/plain": [
              "[2, 10, 6]"
            ]
          },
          "metadata": {},
          "execution_count": 60
        }
      ]
    },
    {
      "cell_type": "code",
      "source": [
        "type(tupla_p[0])"
      ],
      "metadata": {
        "colab": {
          "base_uri": "https://localhost:8080/"
        },
        "id": "FxvtFXlut1HM",
        "outputId": "8c9f2907-1db8-45b1-ddec-52fbb0496a85"
      },
      "execution_count": null,
      "outputs": [
        {
          "output_type": "execute_result",
          "data": {
            "text/plain": [
              "list"
            ]
          },
          "metadata": {},
          "execution_count": 61
        }
      ]
    },
    {
      "cell_type": "code",
      "source": [
        "tupla_p[0].append(100)\n",
        "tupla_p"
      ],
      "metadata": {
        "colab": {
          "base_uri": "https://localhost:8080/"
        },
        "id": "Upp7YwO4t4E4",
        "outputId": "63e194b1-f1a5-44f6-afc3-2821fa833631"
      },
      "execution_count": null,
      "outputs": [
        {
          "output_type": "execute_result",
          "data": {
            "text/plain": [
              "([2, 10, 6, 100], (2, 1))"
            ]
          },
          "metadata": {},
          "execution_count": 62
        }
      ]
    },
    {
      "cell_type": "code",
      "source": [
        "tupla_vocales"
      ],
      "metadata": {
        "colab": {
          "base_uri": "https://localhost:8080/"
        },
        "id": "pCcGyQx5t8re",
        "outputId": "1411caaf-19c0-408a-a5ea-eb0c05260996"
      },
      "execution_count": null,
      "outputs": [
        {
          "output_type": "execute_result",
          "data": {
            "text/plain": [
              "('a', 'e', 'i', 'o', 'u')"
            ]
          },
          "metadata": {},
          "execution_count": 63
        }
      ]
    },
    {
      "cell_type": "code",
      "source": [
        "print(f\"La tupla original es: {tupla_vocales} \\n\")"
      ],
      "metadata": {
        "colab": {
          "base_uri": "https://localhost:8080/"
        },
        "id": "0cJh4nBXuWBV",
        "outputId": "06811a72-6c30-4888-e2a8-36ef8da3541b"
      },
      "execution_count": null,
      "outputs": [
        {
          "output_type": "stream",
          "name": "stdout",
          "text": [
            "La tupla original es: ('a', 'e', 'i', 'o', 'u') \n",
            "\n"
          ]
        }
      ]
    },
    {
      "cell_type": "code",
      "source": [
        "print(f\"Los elementos a ser elegidos están en el rango de [2:4]: {tupla_vocales[2:4]}\")"
      ],
      "metadata": {
        "colab": {
          "base_uri": "https://localhost:8080/"
        },
        "id": "VLjusTvhwCHJ",
        "outputId": "0dd6bcd0-c370-47c2-d927-b74bc22249da"
      },
      "execution_count": null,
      "outputs": [
        {
          "output_type": "stream",
          "name": "stdout",
          "text": [
            "Los elementos a ser elegidos están en el rango de [2:4]: ('i', 'o')\n"
          ]
        }
      ]
    },
    {
      "cell_type": "code",
      "source": [
        "print(f\"Los elementos a ser elegidos están en el rango de [0:3]: {tupla_vocales[0:3]}\")"
      ],
      "metadata": {
        "colab": {
          "base_uri": "https://localhost:8080/"
        },
        "id": "sQz3J17Xwwy1",
        "outputId": "0a5c9283-7a12-4762-a3f0-06256da8fad7"
      },
      "execution_count": null,
      "outputs": [
        {
          "output_type": "stream",
          "name": "stdout",
          "text": [
            "Los elementos a ser elegidos están en el rango de [0:3]: ('a', 'e', 'i')\n"
          ]
        }
      ]
    },
    {
      "cell_type": "markdown",
      "source": [
        "### Desempaquetado de tuplas"
      ],
      "metadata": {
        "id": "xHnWkEl4whj4"
      }
    },
    {
      "cell_type": "code",
      "source": [
        "var_1, var_2 = \"A\", \"B\""
      ],
      "metadata": {
        "id": "COfYL3Otwc-i"
      },
      "execution_count": null,
      "outputs": []
    },
    {
      "cell_type": "code",
      "source": [
        "var_1"
      ],
      "metadata": {
        "colab": {
          "base_uri": "https://localhost:8080/",
          "height": 35
        },
        "id": "OrggE9r6xhuf",
        "outputId": "c27f9c42-0aa0-4952-d0d3-e083c02b8d10"
      },
      "execution_count": null,
      "outputs": [
        {
          "output_type": "execute_result",
          "data": {
            "text/plain": [
              "'A'"
            ],
            "application/vnd.google.colaboratory.intrinsic+json": {
              "type": "string"
            }
          },
          "metadata": {},
          "execution_count": 69
        }
      ]
    },
    {
      "cell_type": "code",
      "source": [
        "var_2"
      ],
      "metadata": {
        "colab": {
          "base_uri": "https://localhost:8080/",
          "height": 35
        },
        "id": "V9DuXodQxioX",
        "outputId": "1b6011ff-902a-4b37-e529-b70de95bd5c5"
      },
      "execution_count": null,
      "outputs": [
        {
          "output_type": "execute_result",
          "data": {
            "text/plain": [
              "'B'"
            ],
            "application/vnd.google.colaboratory.intrinsic+json": {
              "type": "string"
            }
          },
          "metadata": {},
          "execution_count": 70
        }
      ]
    },
    {
      "cell_type": "code",
      "source": [
        "tupla_vocales[0:3]"
      ],
      "metadata": {
        "colab": {
          "base_uri": "https://localhost:8080/"
        },
        "id": "omHyYbijx6O8",
        "outputId": "46cdee45-4d7a-4def-d7a7-8b1a8677ca2d"
      },
      "execution_count": null,
      "outputs": [
        {
          "output_type": "execute_result",
          "data": {
            "text/plain": [
              "('a', 'e', 'i')"
            ]
          },
          "metadata": {},
          "execution_count": 73
        }
      ]
    },
    {
      "cell_type": "code",
      "source": [
        "x, y, z = tupla_vocales[0:3]"
      ],
      "metadata": {
        "id": "pF0GqYZmxj7q"
      },
      "execution_count": null,
      "outputs": []
    },
    {
      "cell_type": "code",
      "source": [
        "x"
      ],
      "metadata": {
        "colab": {
          "base_uri": "https://localhost:8080/",
          "height": 35
        },
        "id": "9KY02ho8xm0-",
        "outputId": "bb5aa52a-50b4-43c6-f728-b3bd4da4da05"
      },
      "execution_count": null,
      "outputs": [
        {
          "output_type": "execute_result",
          "data": {
            "text/plain": [
              "'a'"
            ],
            "application/vnd.google.colaboratory.intrinsic+json": {
              "type": "string"
            }
          },
          "metadata": {},
          "execution_count": 72
        }
      ]
    },
    {
      "cell_type": "code",
      "source": [
        "y"
      ],
      "metadata": {
        "colab": {
          "base_uri": "https://localhost:8080/",
          "height": 35
        },
        "id": "LiRNNStCx9S8",
        "outputId": "e805ae65-a326-41de-dd5e-b09946d2c35d"
      },
      "execution_count": null,
      "outputs": [
        {
          "output_type": "execute_result",
          "data": {
            "text/plain": [
              "'e'"
            ],
            "application/vnd.google.colaboratory.intrinsic+json": {
              "type": "string"
            }
          },
          "metadata": {},
          "execution_count": 74
        }
      ]
    },
    {
      "cell_type": "code",
      "source": [
        "z"
      ],
      "metadata": {
        "colab": {
          "base_uri": "https://localhost:8080/",
          "height": 35
        },
        "id": "MOJi89Jzxnc9",
        "outputId": "651b29c3-3355-4e43-8fc4-a1850694682f"
      },
      "execution_count": null,
      "outputs": [
        {
          "output_type": "execute_result",
          "data": {
            "text/plain": [
              "'i'"
            ],
            "application/vnd.google.colaboratory.intrinsic+json": {
              "type": "string"
            }
          },
          "metadata": {},
          "execution_count": 75
        }
      ]
    },
    {
      "cell_type": "code",
      "source": [
        "%whos"
      ],
      "metadata": {
        "colab": {
          "base_uri": "https://localhost:8080/"
        },
        "id": "dNBNEexbxnuR",
        "outputId": "1258fac6-cfad-4c80-c9f1-4ca86c21c6bb"
      },
      "execution_count": null,
      "outputs": [
        {
          "output_type": "stream",
          "name": "stdout",
          "text": [
            "Variable             Type     Data/Info\n",
            "---------------------------------------\n",
            "a                    int      14\n",
            "b                    int      198\n",
            "cant_element         int      2\n",
            "cantidad             int      2\n",
            "countries            tuple    n=10\n",
            "elemento             str      A\n",
            "elemento_eliminar    str      3\n",
            "i                    int      1\n",
            "inicio               int      3\n",
            "lista_a              list     n=2\n",
            "lista_element        list     n=2\n",
            "lista_x              list     n=7\n",
            "numeros              list     n=2\n",
            "numeros_eliminados   list     n=2\n",
            "suma                 int      3\n",
            "tupla_0              tuple    n=1\n",
            "tupla_1              tuple    n=5\n",
            "tupla_2              tuple    n=4\n",
            "tupla_5              tuple    n=8\n",
            "tupla_p              tuple    n=2\n",
            "tupla_vocales        tuple    n=5\n",
            "valores              int      2\n",
            "var_1                str      A\n",
            "var_2                str      B\n",
            "x                    str      a\n",
            "y                    str      e\n",
            "z                    str      i\n"
          ]
        }
      ]
    },
    {
      "cell_type": "code",
      "source": [
        "tupla_5"
      ],
      "metadata": {
        "colab": {
          "base_uri": "https://localhost:8080/"
        },
        "id": "-37nW6tFypKi",
        "outputId": "623dba87-b4a1-4186-8491-09a55a0b3e3c"
      },
      "execution_count": null,
      "outputs": [
        {
          "output_type": "execute_result",
          "data": {
            "text/plain": [
              "(1, 2, 3, 4, 5, 6, 7, 8)"
            ]
          },
          "metadata": {},
          "execution_count": 77
        }
      ]
    },
    {
      "cell_type": "code",
      "source": [
        "v1, v2 = tupla_5[0:2]"
      ],
      "metadata": {
        "id": "U5nSfyH2yu3F"
      },
      "execution_count": null,
      "outputs": []
    },
    {
      "cell_type": "code",
      "source": [
        "v1"
      ],
      "metadata": {
        "colab": {
          "base_uri": "https://localhost:8080/"
        },
        "id": "k8kSveFvy-lA",
        "outputId": "e00e4865-1053-41e3-97d4-98ac73a4633e"
      },
      "execution_count": null,
      "outputs": [
        {
          "output_type": "execute_result",
          "data": {
            "text/plain": [
              "1"
            ]
          },
          "metadata": {},
          "execution_count": 79
        }
      ]
    },
    {
      "cell_type": "code",
      "source": [
        "v2"
      ],
      "metadata": {
        "colab": {
          "base_uri": "https://localhost:8080/"
        },
        "id": "Vo5XqoOvy_2T",
        "outputId": "ec86de12-615d-4b49-9f9a-ce50cb72c2bd"
      },
      "execution_count": null,
      "outputs": [
        {
          "output_type": "execute_result",
          "data": {
            "text/plain": [
              "2"
            ]
          },
          "metadata": {},
          "execution_count": 80
        }
      ]
    },
    {
      "cell_type": "code",
      "source": [
        "%whos"
      ],
      "metadata": {
        "colab": {
          "base_uri": "https://localhost:8080/"
        },
        "id": "1DqYso17zA3a",
        "outputId": "02f76128-e93e-47ae-c942-65161342d3cb"
      },
      "execution_count": null,
      "outputs": [
        {
          "output_type": "stream",
          "name": "stdout",
          "text": [
            "Variable             Type     Data/Info\n",
            "---------------------------------------\n",
            "a                    int      14\n",
            "b                    int      198\n",
            "cant_element         int      2\n",
            "cantidad             int      2\n",
            "countries            tuple    n=10\n",
            "elemento             str      A\n",
            "elemento_eliminar    str      3\n",
            "i                    int      1\n",
            "inicio               int      3\n",
            "lista_a              list     n=2\n",
            "lista_element        list     n=2\n",
            "lista_x              list     n=7\n",
            "numeros              list     n=2\n",
            "numeros_eliminados   list     n=2\n",
            "suma                 int      3\n",
            "tupla_0              tuple    n=1\n",
            "tupla_1              tuple    n=5\n",
            "tupla_2              tuple    n=4\n",
            "tupla_5              tuple    n=8\n",
            "tupla_p              tuple    n=2\n",
            "tupla_vocales        tuple    n=5\n",
            "v1                   int      1\n",
            "v2                   int      2\n",
            "valores              int      2\n",
            "var_1                str      A\n",
            "var_2                str      B\n",
            "x                    str      a\n",
            "y                    str      e\n",
            "z                    str      i\n"
          ]
        }
      ]
    },
    {
      "cell_type": "code",
      "source": [
        "tupla_5"
      ],
      "metadata": {
        "colab": {
          "base_uri": "https://localhost:8080/"
        },
        "id": "EFR2OrUzzC_O",
        "outputId": "172aaac2-9634-40a7-f09a-b81966d263b7"
      },
      "execution_count": null,
      "outputs": [
        {
          "output_type": "execute_result",
          "data": {
            "text/plain": [
              "(1, 2, 3, 4, 5, 6, 7, 8)"
            ]
          },
          "metadata": {},
          "execution_count": 82
        }
      ]
    },
    {
      "cell_type": "code",
      "source": [
        "tupla_5[-1]"
      ],
      "metadata": {
        "colab": {
          "base_uri": "https://localhost:8080/"
        },
        "id": "8uCnvKCazLNO",
        "outputId": "a837162e-3091-489f-b98b-6b2fce5fb721"
      },
      "execution_count": null,
      "outputs": [
        {
          "output_type": "execute_result",
          "data": {
            "text/plain": [
              "8"
            ]
          },
          "metadata": {},
          "execution_count": 83
        }
      ]
    },
    {
      "cell_type": "code",
      "source": [
        "tupla_5[-1] = 800"
      ],
      "metadata": {
        "colab": {
          "base_uri": "https://localhost:8080/",
          "height": 141
        },
        "id": "03p5hvVkzPmy",
        "outputId": "6cfa8896-c78a-494e-8697-7654386e0624"
      },
      "execution_count": null,
      "outputs": [
        {
          "output_type": "error",
          "ename": "TypeError",
          "evalue": "'tuple' object does not support item assignment",
          "traceback": [
            "\u001b[0;31m---------------------------------------------------------------------------\u001b[0m",
            "\u001b[0;31mTypeError\u001b[0m                                 Traceback (most recent call last)",
            "\u001b[0;32m<ipython-input-84-1552ca76c897>\u001b[0m in \u001b[0;36m<cell line: 1>\u001b[0;34m()\u001b[0m\n\u001b[0;32m----> 1\u001b[0;31m \u001b[0mtupla_5\u001b[0m\u001b[0;34m[\u001b[0m\u001b[0;34m-\u001b[0m\u001b[0;36m1\u001b[0m\u001b[0;34m]\u001b[0m \u001b[0;34m=\u001b[0m \u001b[0;36m800\u001b[0m\u001b[0;34m\u001b[0m\u001b[0;34m\u001b[0m\u001b[0m\n\u001b[0m",
            "\u001b[0;31mTypeError\u001b[0m: 'tuple' object does not support item assignment"
          ]
        }
      ]
    },
    {
      "cell_type": "code",
      "source": [
        "# Tupla de 3 elementos\n",
        "# Primer elemento de la tupla es una lista\n",
        "# Segundo elemento de la tupla es un diccionario\n",
        "# Tercer elemento de la tupla es una tupla\n",
        "tupla_6 = ([1,2,3],{\"uno\":1,\"dos\":2},(3,2))"
      ],
      "metadata": {
        "id": "J2yx13w7zUcP"
      },
      "execution_count": null,
      "outputs": []
    },
    {
      "cell_type": "code",
      "source": [
        "tupla_6[0]"
      ],
      "metadata": {
        "colab": {
          "base_uri": "https://localhost:8080/"
        },
        "id": "tHiSPWXwzw7C",
        "outputId": "5549c0c8-696b-4bce-ec21-6eae30fab723"
      },
      "execution_count": null,
      "outputs": [
        {
          "output_type": "execute_result",
          "data": {
            "text/plain": [
              "[1, 2, 3]"
            ]
          },
          "metadata": {},
          "execution_count": 86
        }
      ]
    },
    {
      "cell_type": "code",
      "source": [
        "type(tupla_6[0])"
      ],
      "metadata": {
        "colab": {
          "base_uri": "https://localhost:8080/"
        },
        "id": "SWyMGJCJzyBv",
        "outputId": "10239fcb-f872-43bb-9df5-e906f4468ace"
      },
      "execution_count": null,
      "outputs": [
        {
          "output_type": "execute_result",
          "data": {
            "text/plain": [
              "list"
            ]
          },
          "metadata": {},
          "execution_count": 87
        }
      ]
    },
    {
      "cell_type": "code",
      "source": [
        "tupla_6[0][2] = 999"
      ],
      "metadata": {
        "id": "OPZDEdsPzyX9"
      },
      "execution_count": null,
      "outputs": []
    },
    {
      "cell_type": "code",
      "source": [
        "tupla_6"
      ],
      "metadata": {
        "colab": {
          "base_uri": "https://localhost:8080/"
        },
        "id": "TdirXiZl0kN6",
        "outputId": "ec7c514e-707b-4e29-d3b0-94df883ca989"
      },
      "execution_count": null,
      "outputs": [
        {
          "output_type": "execute_result",
          "data": {
            "text/plain": [
              "([1, 2, 999], {'uno': 1, 'dos': 2}, (3, 2))"
            ]
          },
          "metadata": {},
          "execution_count": 89
        }
      ]
    },
    {
      "cell_type": "code",
      "source": [
        "tupla_6[2][0]"
      ],
      "metadata": {
        "colab": {
          "base_uri": "https://localhost:8080/"
        },
        "id": "P8RNJNru0l1X",
        "outputId": "195112fb-15fa-457c-da58-a79f62f454c7"
      },
      "execution_count": null,
      "outputs": [
        {
          "output_type": "execute_result",
          "data": {
            "text/plain": [
              "3"
            ]
          },
          "metadata": {},
          "execution_count": 90
        }
      ]
    },
    {
      "cell_type": "code",
      "source": [
        "tupla_6[2][0] = 100"
      ],
      "metadata": {
        "colab": {
          "base_uri": "https://localhost:8080/",
          "height": 141
        },
        "id": "V2Is5U071Bns",
        "outputId": "849d247e-fa2f-4663-bb9b-087bfefb7eb4"
      },
      "execution_count": null,
      "outputs": [
        {
          "output_type": "error",
          "ename": "TypeError",
          "evalue": "'tuple' object does not support item assignment",
          "traceback": [
            "\u001b[0;31m---------------------------------------------------------------------------\u001b[0m",
            "\u001b[0;31mTypeError\u001b[0m                                 Traceback (most recent call last)",
            "\u001b[0;32m<ipython-input-91-629741018bc2>\u001b[0m in \u001b[0;36m<cell line: 1>\u001b[0;34m()\u001b[0m\n\u001b[0;32m----> 1\u001b[0;31m \u001b[0mtupla_6\u001b[0m\u001b[0;34m[\u001b[0m\u001b[0;36m2\u001b[0m\u001b[0;34m]\u001b[0m\u001b[0;34m[\u001b[0m\u001b[0;36m0\u001b[0m\u001b[0;34m]\u001b[0m \u001b[0;34m=\u001b[0m \u001b[0;36m100\u001b[0m\u001b[0;34m\u001b[0m\u001b[0;34m\u001b[0m\u001b[0m\n\u001b[0m",
            "\u001b[0;31mTypeError\u001b[0m: 'tuple' object does not support item assignment"
          ]
        }
      ]
    },
    {
      "cell_type": "markdown",
      "source": [
        "### Recorrer una tupla usando un bucle"
      ],
      "metadata": {
        "id": "zw3ZvhGb1UNX"
      }
    },
    {
      "cell_type": "code",
      "source": [
        "%whos"
      ],
      "metadata": {
        "colab": {
          "base_uri": "https://localhost:8080/"
        },
        "id": "fPgI4NoM1GbT",
        "outputId": "1ad99846-55f0-481a-e049-f738d69fc2d5"
      },
      "execution_count": null,
      "outputs": [
        {
          "output_type": "stream",
          "name": "stdout",
          "text": [
            "Variable             Type     Data/Info\n",
            "---------------------------------------\n",
            "a                    int      14\n",
            "b                    int      198\n",
            "cant_element         int      2\n",
            "cantidad             int      2\n",
            "countries            tuple    n=10\n",
            "elemento             str      A\n",
            "elemento_eliminar    str      3\n",
            "i                    int      1\n",
            "inicio               int      3\n",
            "lista_a              list     n=2\n",
            "lista_element        list     n=2\n",
            "lista_x              list     n=7\n",
            "numeros              list     n=2\n",
            "numeros_eliminados   list     n=2\n",
            "suma                 int      3\n",
            "tupla_0              tuple    n=1\n",
            "tupla_1              tuple    n=5\n",
            "tupla_2              tuple    n=4\n",
            "tupla_5              tuple    n=8\n",
            "tupla_6              tuple    n=3\n",
            "tupla_p              tuple    n=2\n",
            "tupla_vocales        tuple    n=5\n",
            "v1                   int      1\n",
            "v2                   int      2\n",
            "valores              int      2\n",
            "var_1                str      A\n",
            "var_2                str      B\n",
            "x                    str      a\n",
            "y                    str      e\n",
            "z                    str      i\n"
          ]
        }
      ]
    },
    {
      "cell_type": "code",
      "source": [
        "countries"
      ],
      "metadata": {
        "colab": {
          "base_uri": "https://localhost:8080/"
        },
        "id": "Hb3j8rla1bSu",
        "outputId": "0784b411-2214-4e3e-8bde-b25d6f9d2461"
      },
      "execution_count": null,
      "outputs": [
        {
          "output_type": "execute_result",
          "data": {
            "text/plain": [
              "('Peru',\n",
              " 'Brasil',\n",
              " 'Alemania',\n",
              " 'Colombia',\n",
              " 'Argentina',\n",
              " 'Ecuador',\n",
              " 'Uruguay',\n",
              " 'Rusia',\n",
              " 'Bolivia',\n",
              " 'Venezuela')"
            ]
          },
          "metadata": {},
          "execution_count": 93
        }
      ]
    },
    {
      "cell_type": "code",
      "source": [
        "for i in countries:\n",
        "  print(i)"
      ],
      "metadata": {
        "colab": {
          "base_uri": "https://localhost:8080/"
        },
        "id": "cUnm0vJR1kW9",
        "outputId": "be7661e1-b7b6-437e-b40b-3c726164eb2a"
      },
      "execution_count": null,
      "outputs": [
        {
          "output_type": "stream",
          "name": "stdout",
          "text": [
            "Peru\n",
            "Brasil\n",
            "Alemania\n",
            "Colombia\n",
            "Argentina\n",
            "Ecuador\n",
            "Uruguay\n",
            "Rusia\n",
            "Bolivia\n",
            "Venezuela\n"
          ]
        }
      ]
    },
    {
      "cell_type": "markdown",
      "source": [
        "### Desempaquetado de tuplas con for"
      ],
      "metadata": {
        "id": "TjAokEfP2DFO"
      }
    },
    {
      "cell_type": "code",
      "source": [
        "# Tupla con 2 elementos\n",
        "# Cada elemen"
      ],
      "metadata": {
        "id": "bICpjwxo12d9"
      },
      "execution_count": null,
      "outputs": []
    }
  ]
}